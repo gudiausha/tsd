{
 "cells": [
  {
   "cell_type": "markdown",
   "metadata": {},
   "source": [
    "Qs.:\n",
    "1. Square of ele in list1\n",
    "2. sum of both ele in list1 and 2 using list comprehension\n",
    "3. using decorator measure the time take to run the count program\n",
    "4. what are sequence dta types in python\n",
    "5. which is better - list or tuple in terms of performance and flexibility\n",
    "---\n",
    "1. define archi of the recent proj u worked on\n",
    "2. what testing framework did u use?\n",
    "3. what deployment strategy did you use?\n",
    "4. what is the tech stack u used?\n",
    "5. did the OAuth SSO be implemented by u or u just integrated it?"
   ]
  },
  {
   "cell_type": "code",
   "execution_count": 25,
   "metadata": {},
   "outputs": [
    {
     "name": "stdout",
     "output_type": "stream",
     "text": [
      "[4, 6, 8]\n"
     ]
    }
   ],
   "source": [
    "a = [1,2,3]\n",
    "b = [3,4,5]\n",
    "\n",
    "# o = [4,6,8]\n",
    "\n",
    "# output = [i**2 for i in a]\n",
    "\n",
    "output = [i+j for i,j in zip(a,b)]\n",
    "print(output)\n"
   ]
  },
  {
   "cell_type": "code",
   "execution_count": null,
   "metadata": {},
   "outputs": [],
   "source": [
    "import time\n",
    "\n",
    "def prog_execution_time(func):\n",
    "\tdef inner():\n",
    "\t\tstart_time = \n",
    "\n",
    "\n",
    "def count():\n",
    "\tfor i in range(1,1000000):\n",
    "\t\tprint(i)"
   ]
  }
 ],
 "metadata": {
  "kernelspec": {
   "display_name": "Python 3",
   "language": "python",
   "name": "python3"
  },
  "language_info": {
   "codemirror_mode": {
    "name": "ipython",
    "version": 3
   },
   "file_extension": ".py",
   "mimetype": "text/x-python",
   "name": "python",
   "nbconvert_exporter": "python",
   "pygments_lexer": "ipython3",
   "version": "3.13.1"
  }
 },
 "nbformat": 4,
 "nbformat_minor": 2
}
