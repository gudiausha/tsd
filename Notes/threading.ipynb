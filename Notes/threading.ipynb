{
 "cells": [
  {
   "cell_type": "markdown",
   "metadata": {},
   "source": [
    "Even and odd counter multithreading program\n",
    "- Thread1 increments even\n",
    "- Thread2 increments odd"
   ]
  },
  {
   "cell_type": "code",
   "execution_count": 5,
   "metadata": {},
   "outputs": [
    {
     "data": {
      "text/plain": [
       "True"
      ]
     },
     "execution_count": 5,
     "metadata": {},
     "output_type": "execute_result"
    }
   ],
   "source": [
    "import sys\n",
    "sys._is_gil_enabled() "
   ]
  },
  {
   "cell_type": "markdown",
   "metadata": {},
   "source": [
    "In the given program, if you **don't use the `global` keyword** for the `counter` variable, you will get an error or unexpected behavior because of how **variable scope** works in Python.\n",
    "\n",
    "### Why does the `global` keyword cause an error without it?\n",
    "\n",
    "1. **Variable Scope**:\n",
    "   - By default, when you modify a variable inside a function, Python assumes the variable is **local to that function**.\n",
    "   - When you assign a value to a variable inside a function, Python treats it as a **local variable**. If the variable is not defined within the function, Python will try to look for it in the local scope. This can lead to errors when trying to modify a **global variable** from within a function without declaring it as `global`.\n",
    "\n",
    "2. **What happens when `global` is not used**:\n",
    "   - In your case, `counter` is a **global variable**, and both threads are trying to modify it. When you try to modify `counter` inside the thread functions (`thread1` and `thread2`), Python assumes you're trying to create a **local variable** called `counter` inside each function.\n",
    "   - Python then can't find a reference to the global `counter` in the function's local scope, causing an **error** or **unexpected behavior** because it's trying to create a new local variable without any clear initialization.\n",
    "\n",
    "### Example: What happens without `global`:\n",
    "\n",
    "**Error:**\n",
    "```\n",
    "UnboundLocalError: local variable 'counter' referenced before assignment\n",
    "```\n",
    "\n",
    "### How does the `global` keyword fix the problem?\n",
    "\n",
    "When you declare the variable as `global` inside the function, Python knows you want to refer to the global `counter` variable instead of creating a new local variable with the same name.\n",
    "\n",
    "Now, when you use the `global` keyword, Python knows that you want to access and modify the global variable `counter`, and no error will occur.\n",
    "\n",
    "### Summary:\n",
    "- Without the `global` keyword, Python treats the `counter` variable as **local** to each thread function.\n",
    "- Since `counter` is not defined locally within the function, Python throws an **UnboundLocalError**.\n",
    "- Using the `global` keyword tells Python that you're referring to the **global variable**, not creating a new local one, and allows both threads to modify the same `counter` variable.\n",
    "\n",
    "By marking `counter` as `global`, you ensure that the changes made in **both threads** are reflected on the same **global counter** and not on separate local copies of the variable."
   ]
  },
  {
   "cell_type": "markdown",
   "metadata": {},
   "source": [
    "No, simply declaring `global counter = 0` inside the function doesn't work. The `global` keyword is used to **refer to a global variable** inside a function, but **it cannot be used to define or initialize a variable**.\n",
    "\n",
    "### Why does `global counter = 0` not work?\n",
    "\n",
    "The `global` keyword is only used to **access** and **modify** an existing global variable inside a function. It does **not** allow you to declare or initialize the global variable.\n",
    "\n",
    "Here's why:\n",
    "\n",
    "1. **Purpose of `global` keyword**:\n",
    "   - The `global` keyword is used to **refer to an already existing variable** in the global scope, not to initialize or assign a value to it.\n",
    "   - When you use `global counter`, you are telling Python that you intend to modify or use the global `counter` variable, which already exists in the global scope.\n",
    "\n",
    "2. **Declaring a new global variable**:\n",
    "   - A variable must be initialized **once** in the global scope (outside of any functions) before you use it. You cannot **declare** a variable with `global` inside a function.\n",
    "\n",
    "### What Happens if You Try `global counter = 0`?\n",
    "\n",
    "If you try to do this:\n",
    "\n",
    "```python\n",
    "def thread1():\n",
    "    global counter = 0  # This will give an error\n",
    "    counter += 1\n",
    "```\n",
    "\n",
    "**Error**:\n",
    "```\n",
    "SyntaxError: can't use assignment in 'global' statement\n",
    "```\n",
    "\n",
    "### Explanation:\n",
    "- The `global` keyword is used **without an assignment**, just to indicate that the variable is global. It doesn't allow you to assign a value to a global variable directly in the global scope inside a function.\n",
    "- To initialize a global variable, you need to assign a value to it **before** using it in any functions. You can **initialize** it in the global scope, and then use `global` in functions when you want to **modify** it.\n",
    "\n",
    "### Conclusion:\n",
    "\n",
    "- You can **initialize** the global variable outside any function (e.g., `counter = 0`).\n",
    "- You use the `global` keyword **inside the function** to modify the global variable.\n",
    "- The `global` keyword cannot be used to **assign a value** to a global variable inside the function.\n"
   ]
  },
  {
   "cell_type": "code",
   "execution_count": 8,
   "metadata": {},
   "outputs": [
    {
     "name": "stdout",
     "output_type": "stream",
     "text": [
      "Thread1(Even) - 0\n",
      "Thread1(Odd) - 1\n",
      "Thread1(Even) - 2\n",
      "Thread1(Odd) - 3\n",
      "Thread1(Even) - 4\n",
      "Thread1(Odd) - 5\n",
      "Thread1(Even) - 6\n",
      "Thread1(Odd) - 7\n",
      "Thread1(Even) - 8\n",
      "Thread1(Odd) - 9\n",
      "Thread1(Even) - 10\n"
     ]
    }
   ],
   "source": [
    "import threading\n",
    "import time\n",
    "\n",
    "counter = 0\n",
    "\n",
    "#Thread1: Increment even counter\n",
    "def even_counter():\n",
    "    global counter # Use global to refer to the global 'counter'\n",
    "    while counter < 10:\n",
    "        if counter%2 == 0:\n",
    "            print (f\"Thread1(Even) - {counter}\")\n",
    "            counter+=1\n",
    "        # time.sleep(0.1)  # Simulate some delay\n",
    "        \n",
    "def odd_counter():\n",
    "    global counter\n",
    "    while counter < 10:\n",
    "        if counter%2 != 0:\n",
    "            print (f\"Thread1(Odd) - {counter}\")\n",
    "            counter+=1   \n",
    "        # time.sleep(0.1)  # Simulate some delay\n",
    "\n",
    "def main():\n",
    "    #create 2 threads\n",
    "    thread1 = threading.Thread(target=even_counter)\n",
    "    thread2 = threading.Thread(target=odd_counter)\n",
    "\n",
    "    # Start the threads\n",
    "    thread1.start()\n",
    "    thread2.start()\n",
    "\n",
    "# Run the main function\n",
    "if __name__ == \"__main__\":\n",
    "    main()"
   ]
  },
  {
   "cell_type": "code",
   "execution_count": 1,
   "metadata": {},
   "outputs": [
    {
     "name": "stdout",
     "output_type": "stream",
     "text": [
      "Square: 100\n",
      "Cube: 1000\n",
      "Done!\n"
     ]
    }
   ],
   "source": [
    "import threading\n",
    "\n",
    "\n",
    "def print_cube(num):\n",
    "    print(\"Cube: {}\" .format(num * num * num))\n",
    "\n",
    "\n",
    "def print_square(num):\n",
    "    print(\"Square: {}\" .format(num * num))\n",
    "\n",
    "\n",
    "if __name__ ==\"__main__\":\n",
    "    t1 = threading.Thread(target=print_square, args=(10,))\n",
    "    t2 = threading.Thread(target=print_cube, args=(10,))\n",
    "\n",
    "    t1.start()\n",
    "    t2.start()\n",
    "\n",
    "    t1.join()\n",
    "    t2.join()\n",
    "\n",
    "    print(\"Done!\")\n"
   ]
  },
  {
   "cell_type": "code",
   "execution_count": 2,
   "metadata": {},
   "outputs": [
    {
     "name": "stdout",
     "output_type": "stream",
     "text": [
      "ID of process running main program: 30744\n",
      "Main thread name: MainThread\n",
      "Task 1 assigned to thread: t1\n",
      "ID of process running task 1: 30744\n",
      "Task 2 assigned to thread: t2\n",
      "ID of process running task 2: 30744\n"
     ]
    }
   ],
   "source": [
    "import threading\n",
    "import os\n",
    "\n",
    "def task1():\n",
    "    print(\"Task 1 assigned to thread: {}\".format(threading.current_thread().name))\n",
    "    print(\"ID of process running task 1: {}\".format(os.getpid()))\n",
    "\n",
    "def task2():\n",
    "    print(\"Task 2 assigned to thread: {}\".format(threading.current_thread().name))\n",
    "    print(\"ID of process running task 2: {}\".format(os.getpid()))\n",
    "\n",
    "if __name__ == \"__main__\":\n",
    "\n",
    "    print(\"ID of process running main program: {}\".format(os.getpid()))\n",
    "\n",
    "    print(\"Main thread name: {}\".format(threading.current_thread().name))\n",
    "\n",
    "    t1 = threading.Thread(target=task1, name='t1')\n",
    "    t2 = threading.Thread(target=task2, name='t2')\n",
    "\n",
    "    t1.start()\n",
    "    t2.start()\n",
    "\n",
    "    t1.join()\n",
    "    t2.join()\n"
   ]
  },
  {
   "cell_type": "code",
   "execution_count": 3,
   "metadata": {},
   "outputs": [
    {
     "name": "stdout",
     "output_type": "stream",
     "text": [
      "Worker thread running\n",
      "Worker thread running\n",
      "Main thread continuing to run\n"
     ]
    }
   ],
   "source": [
    "import concurrent.futures\n",
    "\n",
    "def worker():\n",
    "    print(\"Worker thread running\")\n",
    "\n",
    "pool = concurrent.futures.ThreadPoolExecutor(max_workers=2)\n",
    "\n",
    "pool.submit(worker)\n",
    "pool.submit(worker)\n",
    "\n",
    "pool.shutdown(wait=True)\n",
    "\n",
    "print(\"Main thread continuing to run\")\n"
   ]
  },
  {
   "cell_type": "code",
   "execution_count": 12,
   "metadata": {},
   "outputs": [
    {
     "name": "stdout",
     "output_type": "stream",
     "text": [
      "Task assigned to thread1: Thread-145 (thread_task1)\n",
      "Task assigned to thread2: Thread-146 (thread_task2)\n",
      "Iteration 0: x = 20\n",
      "Task assigned to thread1: Thread-147 (thread_task1)\n",
      "Task assigned to thread2: Thread-148 (thread_task2)\n",
      "Iteration 1: x = 40\n",
      "Task assigned to thread1: Thread-149 (thread_task1)\n",
      "Task assigned to thread2: Thread-150 (thread_task2)\n",
      "Iteration 2: x = 60\n",
      "Task assigned to thread1: Thread-151 (thread_task1)\n",
      "Task assigned to thread2: Thread-152 (thread_task2)\n",
      "Iteration 3: x = 80\n",
      "Task assigned to thread1: Thread-153 (thread_task1)\n",
      "Task assigned to thread2: Thread-154 (thread_task2)\n",
      "Iteration 4: x = 100\n",
      "Task assigned to thread1: Thread-155 (thread_task1)\n",
      "Task assigned to thread2: Thread-156 (thread_task2)\n",
      "Iteration 5: x = 120\n",
      "Task assigned to thread1: Thread-157 (thread_task1)\n",
      "Task assigned to thread2: Thread-158 (thread_task2)\n",
      "Iteration 6: x = 140\n",
      "Task assigned to thread1: Thread-159 (thread_task1)\n",
      "Task assigned to thread2: Thread-160 (thread_task2)\n",
      "Iteration 7: x = 160\n",
      "Task assigned to thread1: Thread-161 (thread_task1)\n",
      "Task assigned to thread2: Thread-162 (thread_task2)\n",
      "Iteration 8: x = 180\n",
      "Task assigned to thread1: Thread-163 (thread_task1)\n",
      "Task assigned to thread2: Thread-164 (thread_task2)\n",
      "Iteration 9: x = 200\n"
     ]
    }
   ],
   "source": [
    "#Race Condition example\n",
    "import threading\n",
    "import os\n",
    "\n",
    "# global variable x \n",
    "x = 0\n",
    "\n",
    "def increment(): \n",
    "\t\"\"\" \n",
    "\tfunction to increment global variable x \n",
    "\t\"\"\"\n",
    "\tglobal x #explanation for this already given in above notes\n",
    "\tx += 1\n",
    "\n",
    "def thread_task1(): \n",
    "\t\"\"\" \n",
    "\ttask for thread \n",
    "\tcalls increment function 10 times. \n",
    "\t\"\"\"\n",
    "\tprint(\"Task assigned to thread1: {}\".format(threading.current_thread().name))\n",
    "\t# print(\"ID of process running task 1 : {}\".format(os.getpid()))\n",
    "\tfor _ in range(10): \n",
    "\t\tincrement() \n",
    "\n",
    "def thread_task2(): \n",
    "\t\"\"\" \n",
    "\ttask for thread \n",
    "\tcalls increment function 10 times. \n",
    "\t\"\"\"\n",
    "\tprint(\"Task assigned to thread2: {}\".format(threading.current_thread().name))\n",
    "\t# print(\"ID of process running task 2 : {}\".format(os.getpid()))\n",
    "\tfor _ in range(10): \n",
    "\t\tincrement() \n",
    "\n",
    "def main_task(): \n",
    "\tglobal x\n",
    "\t# print('I am X from main func',x)\n",
    "\t# setting global variable x as 0 \n",
    "\t# x = 0\n",
    "\n",
    "\t# creating threads \n",
    "\tt1 = threading.Thread(target=thread_task1) \n",
    "\tt2 = threading.Thread(target=thread_task2) \n",
    "\n",
    "\t# start threads \n",
    "\tt1.start() \n",
    "\tt2.start() \n",
    "\n",
    "\t# wait until threads finish their job \n",
    "\tt1.join() \n",
    "\tt2.join() \n",
    "\n",
    "if __name__ == \"__main__\": \n",
    "\tfor i in range(10): \n",
    "\t\tmain_task() \n",
    "\t\tprint(\"Iteration {0}: x = {1}\".format(i,x)) \n"
   ]
  },
  {
   "cell_type": "code",
   "execution_count": null,
   "metadata": {},
   "outputs": [],
   "source": []
  }
 ],
 "metadata": {
  "kernelspec": {
   "display_name": "Python 3",
   "language": "python",
   "name": "python3"
  },
  "language_info": {
   "codemirror_mode": {
    "name": "ipython",
    "version": 3
   },
   "file_extension": ".py",
   "mimetype": "text/x-python",
   "name": "python",
   "nbconvert_exporter": "python",
   "pygments_lexer": "ipython3",
   "version": "3.13.1"
  }
 },
 "nbformat": 4,
 "nbformat_minor": 2
}
