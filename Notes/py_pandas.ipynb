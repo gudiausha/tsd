{
 "cells": [
  {
   "cell_type": "markdown",
   "metadata": {},
   "source": [
    "# Pandas Notes\n",
    "\n",
    "- value_counts()\n",
    "- read_csv()\n",
    "- read_json()\n",
    "- head(), info()\n",
    "- df.shape() --> this does not work, `df.shape` works, same for columns,dtypes"
   ]
  }
 ],
 "metadata": {
  "language_info": {
   "name": "python"
  }
 },
 "nbformat": 4,
 "nbformat_minor": 2
}
