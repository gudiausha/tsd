{
 "cells": [
  {
   "cell_type": "markdown",
   "metadata": {},
   "source": [
    "## Concurrency Concepts in Python"
   ]
  },
  {
   "cell_type": "markdown",
   "metadata": {},
   "source": [
    "**1. Concurrency vs. Parallelism**\n",
    "\n",
    "- **Concurrency** involves multiple tasks making progress within overlapping time periods, but not necessarily simultaneously.\n",
    "- **Parallelism** entails multiple tasks executing at the exact same time, typically on multiple processors or cores.\n",
    "\n",
    "*Example*:\n",
    "\n",
    "Imagine a chef preparing multiple dishes.\n",
    "\n",
    "- **Concurrency**: The chef starts chopping vegetables, then moves to boiling water while the vegetables are still being chopped, switching between tasks.\n",
    "- **Parallelism**: The chef and an assistant work on different dishes simultaneously, each handling a separate task.\n"
   ]
  },
  {
   "cell_type": "markdown",
   "metadata": {},
   "source": [
    "**2. Multithreading**\n",
    "\n",
    "Multithreading allows multiple threads to run concurrently within a single process, sharing the same memory space. It's suitable for I/O-bound tasks but can be limited by Python's Global Interpreter Lock (GIL), which prevents multiple native threads from executing Python bytecodes simultaneously.\n"
   ]
  },
  {
   "cell_type": "code",
   "execution_count": 1,
   "metadata": {},
   "outputs": [
    {
     "name": "stdout",
     "output_type": "stream",
     "text": [
      "Task 1 is running\n",
      "Task 2 is running\n"
     ]
    }
   ],
   "source": [
    "import threading\n",
    "\n",
    "def task1():\n",
    "    print(\"Task 1 is running\")\n",
    "\n",
    "def task2():\n",
    "    print(\"Task 2 is running\")\n",
    "\n",
    "# Create threads\n",
    "thread1 = threading.Thread(target=task1)\n",
    "thread2 = threading.Thread(target=task2)\n",
    "\n",
    "# Start threads\n",
    "thread1.start()\n",
    "thread2.start()\n",
    "\n",
    "# Wait for threads to complete\n",
    "thread1.join()\n",
    "thread2.join()\n"
   ]
  },
  {
   "cell_type": "markdown",
   "metadata": {},
   "source": [
    "**3. Multiprocessing**\n",
    "\n",
    "Multiprocessing involves running multiple processes, each with its own Python interpreter and memory space. This approach bypasses the GIL, making it suitable for CPU-bound tasks."
   ]
  },
  {
   "cell_type": "code",
   "execution_count": 3,
   "metadata": {},
   "outputs": [],
   "source": [
    "import multiprocessing\n",
    "\n",
    "def task1():\n",
    "    print(\"Task 1 is running\")\n",
    "\n",
    "def task2():\n",
    "    print(\"Task 2 is running\")\n",
    "\n",
    "# Create processes\n",
    "process1 = multiprocessing.Process(target=task1)\n",
    "process2 = multiprocessing.Process(target=task2)\n",
    "\n",
    "# Start processes\n",
    "process1.start()\n",
    "process2.start()\n",
    "\n",
    "# Wait for processes to complete\n",
    "process1.join()\n",
    "process2.join()\n"
   ]
  },
  {
   "cell_type": "markdown",
   "metadata": {},
   "source": [
    "**4. Asynchronous Programming**\n",
    "\n",
    "Asynchronous programming enables functions to run asynchronously using `asyncio`, allowing a program to handle I/O-bound tasks efficiently without blocking the main thread.\n"
   ]
  },
  {
   "cell_type": "code",
   "execution_count": null,
   "metadata": {},
   "outputs": [
    {
     "name": "stdout",
     "output_type": "stream",
     "text": [
      "Task 1 is running\n",
      "Task 2 is running\n",
      "Task 1 is complete\n",
      "Task 2 is complete\n"
     ]
    }
   ],
   "source": [
    "# import asyncio\n",
    "\n",
    "# async def task1():\n",
    "#     print(\"Task 1 is running\")\n",
    "#     await asyncio.sleep(1)\n",
    "#     print(\"Task 1 is complete\")\n",
    "\n",
    "# async def task2():\n",
    "#     print(\"Task 2 is running\")\n",
    "#     await asyncio.sleep(1)\n",
    "#     print(\"Task 2 is complete\")\n",
    "\n",
    "# async def main():\n",
    "#     await asyncio.gather(task1(), task2())\n",
    "\n",
    "# # Run the main function\n",
    "# asyncio.run(main())\n",
    "\n",
    "# The above func gets an error.: \n",
    "# RuntimeError: asyncio.run() cannot be called from a running event loop \n",
    "# because the code is executed in juypter notebook which i guess already runs in the event loop.\n",
    "\n",
    "#Alternate\n",
    "import asyncio\n",
    "\n",
    "async def task1():\n",
    "    print(\"Task 1 is running\")\n",
    "    await asyncio.sleep(1)\n",
    "    print(\"Task 1 is complete\")\n",
    "\n",
    "async def task2():\n",
    "    print(\"Task 2 is running\")\n",
    "    await asyncio.sleep(1)\n",
    "    print(\"Task 2 is complete\")\n",
    "\n",
    "async def main():\n",
    "    await asyncio.gather(task1(), task2())\n",
    "\n",
    "# Run in Jupyter Notebook\n",
    "await main()\n",
    "\n"
   ]
  },
  {
   "cell_type": "markdown",
   "metadata": {},
   "source": [
    "**5. Choosing the Right Concurrency Model**\n",
    "\n",
    "- **I/O-bound tasks**: Use multithreading or asynchronous programming to handle operations like file I/O, network requests, or database interactions.\n",
    "- **CPU-bound tasks**: Opt for multiprocessing to leverage multiple cores for computation-intensive operations.\n",
    "\n",
    "*Example*:\n",
    "\n",
    "- **I/O-bound**: Downloading multiple web pages simultaneously.\n",
    "- **CPU-bound**: Performing complex mathematical calculations on large datasets."
   ]
  },
  {
   "cell_type": "code",
   "execution_count": null,
   "metadata": {},
   "outputs": [],
   "source": []
  }
 ],
 "metadata": {
  "kernelspec": {
   "display_name": "Python 3",
   "language": "python",
   "name": "python3"
  },
  "language_info": {
   "codemirror_mode": {
    "name": "ipython",
    "version": 3
   },
   "file_extension": ".py",
   "mimetype": "text/x-python",
   "name": "python",
   "nbconvert_exporter": "python",
   "pygments_lexer": "ipython3",
   "version": "3.13.1"
  }
 },
 "nbformat": 4,
 "nbformat_minor": 2
}
