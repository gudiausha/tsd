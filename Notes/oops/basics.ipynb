{
 "cells": [
  {
   "cell_type": "markdown",
   "metadata": {},
   "source": [
    "## OOPS Basics"
   ]
  },
  {
   "cell_type": "markdown",
   "metadata": {},
   "source": [
    "- The `__init__` method is a special method used to initialize newly created objects. Often referred to as the constructor, it is automatically invoked when a new instance of a class is created. This method allows you to set up the initial state of the object by assigning values to its attributes.\n",
    "\n",
    "- the `self` keyword is used within a class to refer to the current instance of that class. It allows methods to access and modify the attributes and methods associated with the specific object."
   ]
  },
  {
   "cell_type": "code",
   "execution_count": 35,
   "metadata": {},
   "outputs": [],
   "source": [
    "class Person:\n",
    "    #class attributes - shared among all instances\n",
    "    business_unit = \"Shared Capabilities\"\n",
    "    skill_family = \"Python\"\n",
    "\n",
    "    def __init__(self,name,age):\n",
    "        #instance attributes\n",
    "        self.name = name\n",
    "        self.age = age\n",
    "        self.business_unit = \"Default Unit\"\n",
    "\n",
    "    #instance methods\n",
    "    def describe(self): \n",
    "        # inbuilt method to return attributes as dict\n",
    "        return vars(self)\n",
    "    \n",
    "    def greet(self):\n",
    "        # cls attributes accessed via current instance of cls\n",
    "        # when accessed via current instance, python first looks for inst attribute \n",
    "        # if not found will revert to cls attribute\n",
    "        # Hence always use cls name to access cls attribute\n",
    "        print(f\"Hi, I am {self.name} from business_unit - {self.business_unit}\")\n",
    "\n",
    "        # cls attribute accessed via classname\n",
    "        print(f\"My primary skillset is - {Person.skill_family}\")\n",
    "\n",
    "#obj initialization - refers to current instance of cls\n",
    "person1 = Person(\"Arun\",35)\n",
    "person2 = Person(\"Aditya\",22)"
   ]
  },
  {
   "cell_type": "code",
   "execution_count": 25,
   "metadata": {},
   "outputs": [
    {
     "data": {
      "text/plain": [
       "{'name': 'Arun', 'age': 35}"
      ]
     },
     "execution_count": 25,
     "metadata": {},
     "output_type": "execute_result"
    }
   ],
   "source": [
    "person1.describe()"
   ]
  },
  {
   "cell_type": "code",
   "execution_count": 34,
   "metadata": {},
   "outputs": [
    {
     "name": "stdout",
     "output_type": "stream",
     "text": [
      "Hi, I am Arun from business_unit - Default Unit\n",
      "My primary skillset is - Python\n"
     ]
    }
   ],
   "source": [
    "person1.greet()"
   ]
  },
  {
   "cell_type": "code",
   "execution_count": 7,
   "metadata": {},
   "outputs": [
    {
     "data": {
      "text/plain": [
       "{'name': 'Aditya', 'age': 22}"
      ]
     },
     "execution_count": 7,
     "metadata": {},
     "output_type": "execute_result"
    }
   ],
   "source": [
    "person2.describe()"
   ]
  },
  {
   "cell_type": "code",
   "execution_count": 16,
   "metadata": {},
   "outputs": [],
   "source": [
    "person1.name = \"Arjun\""
   ]
  },
  {
   "cell_type": "code",
   "execution_count": 30,
   "metadata": {},
   "outputs": [],
   "source": [
    "Person.business_unit = \"Advanced Technologies\""
   ]
  },
  {
   "cell_type": "code",
   "execution_count": 17,
   "metadata": {},
   "outputs": [
    {
     "data": {
      "text/plain": [
       "{'name': 'Arjun', 'age': 35}"
      ]
     },
     "execution_count": 17,
     "metadata": {},
     "output_type": "execute_result"
    }
   ],
   "source": [
    "person1.describe()"
   ]
  },
  {
   "cell_type": "code",
   "execution_count": 31,
   "metadata": {},
   "outputs": [
    {
     "name": "stdout",
     "output_type": "stream",
     "text": [
      "Hi, I am Arun from business_unit - Advanced Technologies\n",
      "My primary skillset is - Python\n"
     ]
    }
   ],
   "source": [
    "person1.greet()"
   ]
  },
  {
   "cell_type": "code",
   "execution_count": 32,
   "metadata": {},
   "outputs": [
    {
     "name": "stdout",
     "output_type": "stream",
     "text": [
      "Hi, I am Aditya from business_unit - Advanced Technologies\n",
      "My primary skillset is - Python\n"
     ]
    }
   ],
   "source": [
    "person2.greet()"
   ]
  },
  {
   "cell_type": "code",
   "execution_count": null,
   "metadata": {},
   "outputs": [],
   "source": []
  }
 ],
 "metadata": {
  "kernelspec": {
   "display_name": "Python 3",
   "language": "python",
   "name": "python3"
  },
  "language_info": {
   "codemirror_mode": {
    "name": "ipython",
    "version": 3
   },
   "file_extension": ".py",
   "mimetype": "text/x-python",
   "name": "python",
   "nbconvert_exporter": "python",
   "pygments_lexer": "ipython3",
   "version": "3.13.1"
  }
 },
 "nbformat": 4,
 "nbformat_minor": 2
}
