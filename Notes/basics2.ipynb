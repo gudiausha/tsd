{
 "cells": [
  {
   "cell_type": "markdown",
   "metadata": {},
   "source": [
    "# Basics - Part II\n",
    "\n",
    "The following topics are covered.:\n",
    "\n",
    "- Modules\n",
    "    - Common inbuilt modules\n",
    "- Comprehensions\n",
    "- Decorator\n",
    "- Iterator\n",
    "- Generators\n",
    "- Context Managers\n",
    "- Regex Basics"
   ]
  }
 ],
 "metadata": {
  "language_info": {
   "name": "python"
  }
 },
 "nbformat": 4,
 "nbformat_minor": 2
}
