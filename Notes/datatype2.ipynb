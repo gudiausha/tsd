{
 "cells": [
  {
   "cell_type": "markdown",
   "metadata": {},
   "source": [
    "# Sequence Datatype II\n",
    "\n",
    "- Strings\n",
    "    - Common String Methods with examples\n",
    "    - Problems\n",
    "        - https://www.geeksforgeeks.org/python-exercises-practice-questions-and-solutions/?ref=dhm"
   ]
  },
  {
   "cell_type": "markdown",
   "metadata": {},
   "source": [
    "### Notes I\n",
    "\n",
    "##### Note.: All the below str functions create a new obj, they don't make changes to the str in place\n",
    "\n",
    "- title() \n",
    "    - returns a string where the first character in every word is upper case\n",
    "    - Syntax: string.title()\n",
    "- swapcase() \n",
    "    - returns a string where all the upper case letters are lower case and vice versa\n",
    "    - Syntax: string.swapcase()\n",
    "- find()\n",
    "    - finds the first occurrence of the specified value\n",
    "    - returns -1 if the value is not found\n",
    "    - almost the same as the `index()` method, the only difference is that the index() method raises an exception if the value is not found\n",
    "    - Syntax: string.find(value, start, end)\n",
    "        - value\t(Required) - The value to search for\n",
    "        - start\t(Optional) - Where to start the search. Default is 0\n",
    "        - end\t(Optional) - Where to end the search. Default is to the end of the string\n",
    "- strip()\n",
    "    - removes any leading, and trailing whitespaces\n",
    "    - Leading means at the beginning of the string, trailing means at the end\n",
    "    - specify which character(s) to remove, if not, any whitespaces will be removed\n",
    "    - Syntax: string.strip(characters)\n",
    "        - characters (Optional) - A set of characters to remove as leading/trailing characters"
   ]
  },
  {
   "cell_type": "code",
   "execution_count": 115,
   "metadata": {},
   "outputs": [
    {
     "name": "stdout",
     "output_type": "stream",
     "text": [
      "Hello I Am A Stringing\n",
      "HELLO I AM A STRINGING\n",
      "1\n",
      "6\n",
      "-1\n",
      "this is an example of stringip\n",
      "banana\n"
     ]
    }
   ],
   "source": [
    "string = \"hello i am a stringing\"\n",
    "\n",
    "#title() usage\n",
    "print(string.title())\n",
    "\n",
    "#swapcase() usage\n",
    "print(string.swapcase())\n",
    "\n",
    "#find() usage\n",
    "print(string.find('e'))\n",
    "print(string.find('i',2,(len(string)-1)))\n",
    "print(string.find('z'))\n",
    "\n",
    "#strip() usage\n",
    "string1 = \"   this is an example of stringip   \"\n",
    "print(string1.strip())\n",
    "\n",
    "txt = \",,,,,rrttgg.....banana....rrr\"\n",
    "print(txt.strip(\",.grt\"))"
   ]
  },
  {
   "cell_type": "markdown",
   "metadata": {},
   "source": [
    "### Notes II\n",
    "- lower()\n",
    "    - returns a string where all characters are lower case\n",
    "    - Syntax: string.lower()\n",
    "- upper()\n",
    "    - returns a string where all characters are upper case\n",
    "    - Syntax: string.upper()\n",
    "- startswith()\n",
    "    - returns True if the string starts with the specified value, otherwise False\n",
    "    - Syntax: string.startswith(value, start, end)\n",
    "        - value (Required) - The value to check if the string starts with. This value parameter can also be a tuple, then the method returns true if the string starts with any of the tuple values.\n",
    "        - start (Optional) - An Integer specifying at which position to start the search\n",
    "        - end (Optional) - An Integer specifying at which position to end the search\n",
    "- endswith()\n",
    "    - returns True if the string ends with the specified value, otherwise False\n",
    "    - Syntax: string.endswith(value, start, end)\n",
    "        - value (Required) - The value to check if the string ends with. This value parameter can also be a tuple, then the method returns true if the string ends with any of the tuple values.\n",
    "        - start (Optional) - An Integer specifying at which position to start the search\n",
    "        - end (Optional) - An Integer specifying at which position to end the search\n",
    "- isalnum()\n",
    "    - returns True if all the characters are alphanumeric, meaning alphabet letter (a-z) and numbers (0-9).\n",
    "    - Example of characters that are not alphanumeric: (space)!#%&? etc\n",
    "    - Syntax: string.isalnum()"
   ]
  },
  {
   "cell_type": "code",
   "execution_count": 116,
   "metadata": {},
   "outputs": [
    {
     "name": "stdout",
     "output_type": "stream",
     "text": [
      "HELLO I AM A STRINGING\n",
      "\n",
      "Startwith Examples\n",
      "True\n",
      "False\n",
      "True\n",
      "\n",
      "Endswith Example\n",
      "True\n",
      "True\n",
      "\n",
      "this is an example of lower fn\n"
     ]
    }
   ],
   "source": [
    "#upper() usage\n",
    "print(string.upper())\n",
    "\n",
    "#startswith() usage\n",
    "print()\n",
    "print(\"Startwith Examples\")\n",
    "print(string.startswith(\"hel\"))\n",
    "print(string.startswith(\"a\"))\n",
    "print(string.startswith((\"h\",\"a\",\"b\")))\n",
    "print()\n",
    "\n",
    "#endswith() usage\n",
    "print(\"Endswith Example\")\n",
    "print(string.endswith(\"ing\"))\n",
    "print(string.endswith((\"ing\",\"abd\",\"igh\")))\n",
    "print()\n",
    "\n",
    "#lower() usage\n",
    "txt1 = \"THIS is an EXAMPLE of LoWeR fN\"\n",
    "print(txt1.lower())"
   ]
  },
  {
   "cell_type": "markdown",
   "metadata": {},
   "source": [
    "### Notes III\n",
    "- reverse\n",
    "    - no inbuilt function available - must use slicing\n",
    "- slicing\n",
    "    - Syntax: sequence[start:end:step]\n",
    "        - start → The index where the slicing begins (default is 0).\n",
    "        - end → The index where the slicing stops (default is the length of the sequence).\n",
    "        - step → The interval between elements (default is 1).\n",
    "    - string = \"python\"\n",
    "        - string[0:2] = py (Slicing till index 1)\n",
    "        - string[0:] = python (Slicing till last index)\n",
    "        - string[0:4] = pyth (Slicing till index 3)\n",
    "        - string[0:-2] = pyth (Slicing till index -3)\n",
    "        - string[::-1] = nothyp (traverses backwards)\n",
    "        - string[::2] = pto (extract at regular intervals)\n",
    "        - new_word = str[:] (use for shallow copy) -> now new_word also points to `python`\n",
    "    Note: -1 indexing starts from last of any string.\n",
    "- replace\n",
    "    - replaces a specified phrase with another specified phrase\n",
    "    - Syntax: string.replace(oldvalue, newvalue, count)\n",
    "        - oldvalue (Required) -  The string to search for\n",
    "        - newvalue (Required) -  The string to replace the old value with\n",
    "        - count\t(Optional) -  A number specifying how many occurrences of the old value you want to replace. Default is all occurrences\n",
    "- isdigit\n",
    "    - checks if a string contains entirely digits/numbers and returns True,else False\n"
   ]
  },
  {
   "cell_type": "code",
   "execution_count": 117,
   "metadata": {},
   "outputs": [
    {
     "name": "stdout",
     "output_type": "stream",
     "text": [
      "HelloWorldPython\n"
     ]
    }
   ],
   "source": [
    "sentence = \"Hello World Python\"\n",
    "new_sentence = sentence.replace(\" \", \"\")\n",
    "print(new_sentence)"
   ]
  },
  {
   "cell_type": "code",
   "execution_count": 118,
   "metadata": {},
   "outputs": [
    {
     "name": "stdout",
     "output_type": "stream",
     "text": [
      "True\n",
      "\n",
      "False\n"
     ]
    }
   ],
   "source": [
    "s = \"12345\"\n",
    "print(s.isdigit())\n",
    "\n",
    "print()\n",
    "\n",
    "s1 = \"abc34ef\"\n",
    "print(s1.isdigit())"
   ]
  },
  {
   "cell_type": "markdown",
   "metadata": {},
   "source": [
    "### Notes IV\n",
    "\n",
    "#### Conversions\n",
    "\n",
    "- Int to string: \n",
    "    - str(int)\n",
    "- List/Tuple/Set to string:\n",
    "    - \" \".join(list)\n",
    "    - Use for loop and append to var\n",
    "    - For set, to convert individual char to string use str(set-var)\n",
    "- String to int\n",
    "    - int(string,base)\n",
    "- String to list\n",
    "    - split()\n",
    "        - based on white space or any delimiter\n",
    "    - list()\n",
    "        - each char of string is converted as ele of list\n",
    "    - Use for loop and append to list\n",
    "- String to set\n",
    "    - set(string)\n",
    "    - {*string}\n"
   ]
  },
  {
   "cell_type": "code",
   "execution_count": 119,
   "metadata": {},
   "outputs": [
    {
     "name": "stdout",
     "output_type": "stream",
     "text": [
      "10\n",
      "10\n"
     ]
    }
   ],
   "source": [
    "# Binary string\n",
    "s = \"1010\"\n",
    "num = int(s, 2)\n",
    "print(num)\n",
    "\n",
    "# Hexadecimal string\n",
    "s = \"A\"\n",
    "num = int(s, 16)\n",
    "print(num)"
   ]
  },
  {
   "cell_type": "markdown",
   "metadata": {},
   "source": [
    "### Notes - V\n",
    "- min()\n",
    "    - returns the smallest item in an iterable. It can also be used to find the smallest item between two or more parameters\n",
    "    - Syntax: \n",
    "        - *to find the smallest item in an iterable* : min(iterable, *iterables, key, default)\n",
    "        - Parameters:\n",
    "            - iterable - an iterable such as list, tuple, set, dictionary, etc.\n",
    "            - *iterables (optional) - any number of iterables; can be more than one\n",
    "            - key (optional) - key function where the iterables are passed and comparison is performed based on its return value\n",
    "            - default (optional) - default value if the given iterable is empty\n",
    "        - *to find the smallest item between two or more objects* : min(arg1, arg2, *args, key)\n",
    "        - Parameters:\n",
    "            - arg1 - an object; can be numbers, strings, etc.\n",
    "            - arg2 - an object; can be numbers, strings, etc.\n",
    "            - *args (optional) - any number of objects\n",
    "            - key (optional) - key function where each argument is passed, and comparison is performed based on its return value\n",
    "        - If we pass an empty iterator, a ValueError exception is raised. To avoid this, we can pass the default parameter.\n",
    "        - If we pass more than one iterators, the smallest item from the given iterators is returned. \n",
    "\n",
    "- max()\n",
    "    - Same as `min()` except that it returns largest item in an iterable\n",
    "\n",
    "- map()\n",
    "    - executes a given function to each element of an iterable (such as lists, tuples, etc.)\n",
    "    - Syntax : map(function, iterables)\n",
    "        - function - a function that is applied to each element of an iterable.\n",
    "        - iterables - iterables such as lists, tuples, etc.\n",
    "    - returns a map object, which can be easily converted to lists, tuples, etc\n",
    "    "
   ]
  },
  {
   "cell_type": "code",
   "execution_count": 120,
   "metadata": {},
   "outputs": [
    {
     "name": "stdout",
     "output_type": "stream",
     "text": [
      "The smallest number is: 2\n",
      "The smallest string is: C Programming\n",
      "The smallest key: -2\n",
      "The key with the smallest value: -1\n",
      "The smallest value: 1\n"
     ]
    }
   ],
   "source": [
    "number = [3, 2, 8, 5, 10, 6]\n",
    "smallest_number = min(number);\n",
    "\n",
    "print(\"The smallest number is:\", smallest_number)\n",
    "\n",
    "# If the items in an iterable are strings, the smallest item (ordered alphabetically) is returned.\n",
    "languages = [\"Python\", \"C Programming\", \"Java\", \"JavaScript\"]\n",
    "smallest_string = min(languages)\n",
    "\n",
    "print(\"The smallest string is:\", smallest_string)\n",
    "\n",
    "#returns the smallest key\n",
    "square = {2: 4, 3: 9, -1: 1, -2: 4}\n",
    "key1 = min(square)\n",
    "print(\"The smallest key:\", key1)\n",
    "\n",
    "# the key whose value is the smallest\n",
    "# The function returns the values of dictionaries. \n",
    "# Based on the values (rather than the dictionary's keys), the key having the minimum value is computed.\n",
    "key2 = min(square, key = lambda k: square[k])\n",
    "print(\"The key with the smallest value:\", key2)\n",
    "print(\"The smallest value:\", square[key2])"
   ]
  },
  {
   "cell_type": "code",
   "execution_count": 121,
   "metadata": {},
   "outputs": [
    {
     "name": "stdout",
     "output_type": "stream",
     "text": [
      "<map object at 0x000001C9E90365F0>\n",
      "[1, 4, 9, 16]\n"
     ]
    }
   ],
   "source": [
    "numbers = [1,2,3,4]\n",
    "\n",
    "# returns the square of a number\n",
    "def square(number):\n",
    "  return number * number\n",
    "\n",
    "# apply square() to each item of the numbers list\n",
    "squared_numbers = map(square, numbers)\n",
    "print(squared_numbers) # retunrs map obj\n",
    "\n",
    "# converting to list for printing\n",
    "result = list(squared_numbers)\n",
    "print(result) "
   ]
  },
  {
   "cell_type": "code",
   "execution_count": 122,
   "metadata": {},
   "outputs": [
    {
     "name": "stdout",
     "output_type": "stream",
     "text": [
      "<map object at 0x000001C9E91E9810>\n",
      "{16, 1, 4, 9}\n"
     ]
    }
   ],
   "source": [
    "#map with lambda\n",
    "numbers = (1, 2, 3, 4)\n",
    "result = map(lambda x: x*x, numbers)\n",
    "print(result)\n",
    "\n",
    "# convert to set and print it\n",
    "print(set(result))"
   ]
  },
  {
   "cell_type": "code",
   "execution_count": 123,
   "metadata": {},
   "outputs": [
    {
     "name": "stdout",
     "output_type": "stream",
     "text": [
      "[11, 22, 43]\n"
     ]
    }
   ],
   "source": [
    "num1 = [1, 2, 3]\n",
    "num2 = [10, 20, 40]\n",
    "\n",
    "# add corresponding items from the num1 and num2 lists\n",
    "result = map(lambda n1, n2: n1+n2, num1, num2)\n",
    "print(list(result))"
   ]
  },
  {
   "cell_type": "code",
   "execution_count": 124,
   "metadata": {},
   "outputs": [
    {
     "name": "stdout",
     "output_type": "stream",
     "text": [
      "[['e', 'a', 't'], ['s', 'l', 'e', 'e', 'p'], ['r', 'e', 'a', 'd']]\n"
     ]
    }
   ],
   "source": [
    "#String Modification using map\n",
    "# list of actions\n",
    "actions=['eat', 'sleep','read']\n",
    "# convert each string into list of individual characters \n",
    "result= list(map(list,actions))\n",
    "print(result)"
   ]
  },
  {
   "cell_type": "markdown",
   "metadata": {},
   "source": [
    "### Notes VI\n",
    "\n",
    "- Counter()\n",
    "    - sub-class that is used to count hashable objects. It implicitly creates a hash table of an iterable when invoked.\n",
    "    - Syntax: collections.Counter([iterable-or-mapping])\n",
    "    - The constructor of the counter can be called in any one of the following ways:\n",
    "        - With a sequence of items\n",
    "        - With a dictionary containing keys and counts\n",
    "        - With keyword arguments mapping string names to counts\n",
    "- defaultdict()\n",
    "    - sub-class of the dictionary class that returns a dictionary-like object.\n",
    "    - The difference from dictionary is, It provides a default value for the key that does not exist and never raises a KeyError\n",
    "    - Syntax: defaultdict(default_factory)\n",
    "        - int,list,str or any callable obj can be used as default_factory\n",
    "        - they are initialized as follows.:\n",
    "            - int -> 0\n",
    "            - str -> ' '\n",
    "            - list -> []"
   ]
  },
  {
   "cell_type": "markdown",
   "metadata": {},
   "source": [
    "In `defaultdict`, the **default factory** is a callable that provides default values when a missing key is accessed. Apart from `list`, `str`, and `int`, here are other common default factories:  \n",
    "\n",
    "**Common Default Factories in `defaultdict`**\n",
    "1. **`float`** → Default value: `0.0`  \n",
    "   ```python\n",
    "   from collections import defaultdict\n",
    "   d = defaultdict(float)\n",
    "   print(d['x'])  # Output: 0.0\n",
    "   ```\n",
    "\n",
    "2. **`bool`** → Default value: `False`  \n",
    "   ```python\n",
    "   d = defaultdict(bool)\n",
    "   print(d['y'])  # Output: False\n",
    "   ```\n",
    "\n",
    "3. **`set`** → Default value: `set()` (empty set)  \n",
    "   ```python\n",
    "   d = defaultdict(set)\n",
    "   d['fruits'].add('apple')\n",
    "   print(d)  # Output: defaultdict(<class 'set'>, {'fruits': {'apple'}})\n",
    "   ```\n",
    "\n",
    "4. **`tuple`** → Default value: `()` (empty tuple)  \n",
    "   ```python\n",
    "   d = defaultdict(tuple)\n",
    "   print(d['z'])  # Output: ()\n",
    "   ```\n",
    "\n",
    "5. **`dict`** → Default value: `{}` (empty dictionary)  \n",
    "   ```python\n",
    "   d = defaultdict(dict)\n",
    "   print(d['info'])  # Output: {}\n",
    "   ```\n",
    "\n",
    "---\n",
    "\n",
    "**Using Custom Functions as Default Factory**\n",
    "You can use a function as the default factory to return a **custom default value**:\n",
    "\n",
    "**Example 1: Defaulting to a Fixed Value**\n",
    "```python\n",
    "def default_value():\n",
    "    return \"N/A\"\n",
    "\n",
    "d = defaultdict(default_value)\n",
    "print(d['name'])  # Output: 'N/A'\n",
    "```\n",
    "\n",
    "**Example 2: Defaulting to an Object**\n",
    "```python\n",
    "class Person:\n",
    "    def __init__(self, name=\"Unknown\"):\n",
    "        self.name = name\n",
    "\n",
    "d = defaultdict(Person)  # Creates a Person object when key is missing\n",
    "print(d['p1'].name)  # Output: 'Unknown'\n",
    "```\n",
    "\n",
    "---\n",
    "\n",
    "**Summary**\n",
    "Apart from `list`, `str`, and `int`, you can use:\n",
    "✅ `float`, `bool`, `set`, `tuple`, `dict`  \n",
    "✅ Custom functions (`lambda`, user-defined functions)  \n",
    "✅ Custom classes (e.g., `Person`)  \n",
    "\n",
    "This flexibility makes `defaultdict` **powerful for handling missing keys** efficiently. 🚀"
   ]
  },
  {
   "cell_type": "markdown",
   "metadata": {},
   "source": [
    "### Questions"
   ]
  },
  {
   "cell_type": "markdown",
   "metadata": {},
   "source": [
    "Q1. The task is to print a new string such that tag_name is in the middle of bound_by."
   ]
  },
  {
   "cell_type": "code",
   "execution_count": 125,
   "metadata": {},
   "outputs": [
    {
     "name": "stdout",
     "output_type": "stream",
     "text": [
      "[[tag]]\n",
      "<body>\n"
     ]
    }
   ],
   "source": [
    "def wrap_tag(bound_by,tag_name):\n",
    "    output = bound_by[:len(bound_by)//2]+tag_name+bound_by[len(bound_by)//2:]\n",
    "    print(output)\n",
    "\n",
    "wrap_tag(\"[[]]\",\"tag\")\n",
    "wrap_tag(\"<>\",\"body\")"
   ]
  },
  {
   "cell_type": "markdown",
   "metadata": {},
   "source": [
    "Q2. Given a string s, reverse the string without reversing its individual words. Words are separated by spaces.\n",
    "\n",
    "Note: The string may contain leading or trailing spaces, or multiple spaces between two words. \n",
    "The returned string should only have a single space separating the words, and no extra spaces should be included."
   ]
  },
  {
   "cell_type": "code",
   "execution_count": 126,
   "metadata": {},
   "outputs": [
    {
     "name": "stdout",
     "output_type": "stream",
     "text": [
      "much very program this like i\n",
      "mno pqr\n",
      "a\n"
     ]
    }
   ],
   "source": [
    "def reverse_word(s):\n",
    "   print(\" \".join(s.strip().split()[::-1]))\n",
    "\n",
    "reverse_word(\" i like this program very much \")\n",
    "reverse_word(\" pqr mno \")\n",
    "reverse_word(\" a \")\n",
    "\n",
    "# Other Methods to solve.:\n",
    "# - split --> for loop (reverse) --> store in var"
   ]
  },
  {
   "cell_type": "markdown",
   "metadata": {},
   "source": [
    "Q3. Given two strings a and b. The task is to make a new string where the string with longer length should be in between and the one with shorter length should be outside on front and end. New string should be like \n",
    "shorter+longer+shorter.\n",
    "\n",
    "Note: It is guranteed that no two string are of same length."
   ]
  },
  {
   "cell_type": "code",
   "execution_count": 127,
   "metadata": {},
   "outputs": [
    {
     "name": "stdout",
     "output_type": "stream",
     "text": [
      "HiThereHi\n"
     ]
    }
   ],
   "source": [
    "def repeat_the_str(a,b):\n",
    "    first_str_len = len(a)\n",
    "    second_str_len = len(b)\n",
    "\n",
    "    if first_str_len<second_str_len:\n",
    "        print(a+b+a)\n",
    "    else:\n",
    "        print(b+a+b)\n",
    "\n",
    "repeat_the_str(\"Hi\",\"There\")"
   ]
  },
  {
   "cell_type": "markdown",
   "metadata": {},
   "source": [
    "Q4. You are given a string s. Your task is to determine if the string is a palindrome. **A string is considered a palindrome if it reads the same forwards and backwards**."
   ]
  },
  {
   "cell_type": "code",
   "execution_count": 128,
   "metadata": {},
   "outputs": [
    {
     "name": "stdout",
     "output_type": "stream",
     "text": [
      "True\n",
      "False\n"
     ]
    }
   ],
   "source": [
    "def is_palindrome(string):\n",
    "    print(string == string[::-1])\n",
    "\n",
    "is_palindrome(\"abba\")\n",
    "is_palindrome(\"hello\")"
   ]
  },
  {
   "cell_type": "markdown",
   "metadata": {},
   "source": [
    "Q5. Advanced palindrome\n",
    "\n",
    "`re` pattern explanation\n",
    "\n",
    "This expression `re.sub(r'[^a-zA-Z0-9]', '', s)` is used to **remove all non-alphanumeric characters** (i.e., punctuation, spaces, and special characters) from a string. Let’s break it down:\n",
    "\n",
    "**1️⃣ `re.sub(pattern, replacement, string)`**\n",
    "- This is a function from Python's `re` (regular expression) module.\n",
    "- It **replaces** all occurrences of `pattern` in `string` with `replacement`.\n",
    "\n",
    "**2️⃣ `r'[^a-zA-Z0-9]'` (Regex Pattern)**\n",
    "- The `r` before the string (`r'...'`) means it's a **raw string**, which helps avoid issues with escape sequences.\n",
    "- The `[^...]` notation represents a **negated character set**, meaning \"match anything **not** inside the brackets.\"\n",
    "- `a-zA-Z0-9` represents **all lowercase and uppercase letters, plus digits (0-9).**\n",
    "- So, `[^a-zA-Z0-9]` means **\"match anything that is NOT a letter or digit\"** (i.e., punctuation, spaces, special characters).\n",
    "\n",
    "**3️⃣ Replacement: `''` (Empty String)**\n",
    "- This means **replace all matched non-alphanumeric characters with nothing (i.e., remove them).**"
   ]
  },
  {
   "cell_type": "code",
   "execution_count": 129,
   "metadata": {},
   "outputs": [
    {
     "name": "stdout",
     "output_type": "stream",
     "text": [
      "True\n",
      "False\n"
     ]
    }
   ],
   "source": [
    "import re\n",
    "def is_palindrome_advanced(string):\n",
    "    \"\"\"Checks if a string is a palindrome, ignoring case and non-alphanumeric characters\"\"\"\n",
    "    clean_s = re.sub(r'[^a-zA-Z0-9]', '', string).lower()\n",
    "    print(clean_s == clean_s[::-1])\n",
    "\n",
    "is_palindrome_advanced(\"A man, a plan, a canal: Panama\")  \n",
    "is_palindrome_advanced(\"bye\")"
   ]
  },
  {
   "cell_type": "markdown",
   "metadata": {},
   "source": [
    "Q6. Given a string s which may contain lowercase and uppercase characters. \n",
    "The task is to remove all duplicate characters from the string and find the resultant string. \n",
    "The order of remaining characters in the output should be same as in the original string."
   ]
  },
  {
   "cell_type": "code",
   "execution_count": 130,
   "metadata": {},
   "outputs": [
    {
     "name": "stdout",
     "output_type": "stream",
     "text": [
      "geEksforG\n",
      "eoGEskgrf\n",
      "\n",
      "HaPpyNewYr\n",
      "weayNrYPHp\n"
     ]
    }
   ],
   "source": [
    "def remove_duplicates(s):\n",
    "    resultant_dict = {}\n",
    "    for char in s:\n",
    "        if char not in resultant_dict:\n",
    "            resultant_dict[char]=1\n",
    "    \n",
    "    resultant_str = \"\".join(resultant_dict.keys())\n",
    "    print(resultant_str)\n",
    "\n",
    "    # Does not retain order\n",
    "    resultant_str_set = \"\".join(set(s))\n",
    "    print(resultant_str_set)\n",
    "\n",
    "remove_duplicates(\"geEksforGEeks\")\n",
    "print()\n",
    "remove_duplicates(\"HaPpyNewYear\")"
   ]
  },
  {
   "cell_type": "markdown",
   "metadata": {},
   "source": [
    "Q7. Given two strings s1 and s2 consisting of lowercase characters. The task is to check whether two given strings are an anagram of each other or not. An anagram of a string is another string that **contains the same characters, only the order of characters can be different**. For example, \"act\" and \"tac\" are an anagram of each other. Strings s1 and s2 can only contain lowercase alphabets.\n",
    "\n",
    "Note: You can assume both the strings s1 & s2 are non-empty."
   ]
  },
  {
   "cell_type": "code",
   "execution_count": 131,
   "metadata": {},
   "outputs": [
    {
     "name": "stdout",
     "output_type": "stream",
     "text": [
      "True\n",
      "False\n",
      "True\n"
     ]
    }
   ],
   "source": [
    "from collections import Counter\n",
    "\n",
    "def is_anagram(s1,s2):\n",
    "    s1_hash = Counter(s1)\n",
    "    s2_hash = Counter(s2)\n",
    "    print(s1_hash == s2_hash)\n",
    "\n",
    "is_anagram(\"geeks\",\"kseeg\")\n",
    "is_anagram(\"allergy\",\"allergic\")\n",
    "is_anagram(\"g\",\"g\")\n"
   ]
  },
  {
   "cell_type": "markdown",
   "metadata": {},
   "source": [
    "Q8. Given a string. The task is to print all words with even length in the given string."
   ]
  },
  {
   "cell_type": "code",
   "execution_count": 132,
   "metadata": {},
   "outputs": [
    {
     "name": "stdout",
     "output_type": "stream",
     "text": [
      "This is python language \n",
      "am \n"
     ]
    }
   ],
   "source": [
    "def words_with_even_len(s):\n",
    "    even_len_words = \"\"\n",
    "    for word in s.split():\n",
    "        if len(word)%2 == 0:\n",
    "            even_len_words += word + \" \"\n",
    "    print(even_len_words)\n",
    "\n",
    "words_with_even_len(\"This is a python language\")\n",
    "words_with_even_len(\"i am laxmi\")\n",
    "# Other Methods.:\n",
    "# - even_len_words as [] --> use join\n",
    "# - list --> filter and lambda\n",
    "# - split --> list comprehension\n",
    "# - spilt --> enumerate"
   ]
  },
  {
   "cell_type": "code",
   "execution_count": 133,
   "metadata": {},
   "outputs": [
    {
     "name": "stdout",
     "output_type": "stream",
     "text": [
      "<filter object at 0x000001C9E91E4A00>\n",
      "geek\n"
     ]
    }
   ],
   "source": [
    "# List-->filter and lambda method\n",
    "# Python code \n",
    "# To print even length words in string \n",
    " \n",
    "#input string \n",
    "n=\"geeks for geek\"\n",
    "#splitting the words in a given string\n",
    "s=n.split(\" \") \n",
    "l=filter(lambda x: (len(x)%2==0),s)\n",
    "print(l)\n",
    "print(\"\".join(list(l)))"
   ]
  },
  {
   "cell_type": "markdown",
   "metadata": {},
   "source": [
    "Q9. Remove ith char from string"
   ]
  },
  {
   "cell_type": "code",
   "execution_count": 134,
   "metadata": {},
   "outputs": [
    {
     "name": "stdout",
     "output_type": "stream",
     "text": [
      "hlloworld\n"
     ]
    }
   ],
   "source": [
    "def remove_ith_char(s, char):\n",
    "    new_s = s.replace(\" \", \"\")  # Remove spaces\n",
    "    new_s = new_s.replace(char, \"\", 1)  # Remove first occurrence of `char`\n",
    "    print(new_s)\n",
    "\n",
    "remove_ith_char(\"hello world\", \"e\")\n",
    "\n",
    "# alternates.:\n",
    "# - take index and slice based on ind\n"
   ]
  },
  {
   "cell_type": "markdown",
   "metadata": {},
   "source": [
    "Q10. Given a string. the task is to check if the string is symmetrical and palindrome or not. **A string is said to be symmetrical if both the halves of the string are the same** and a string is said to be a palindrome string if one half of the string is the reverse of the other half or if a string appears the same when read forward or backward."
   ]
  },
  {
   "cell_type": "code",
   "execution_count": 135,
   "metadata": {},
   "outputs": [
    {
     "name": "stdout",
     "output_type": "stream",
     "text": [
      "The string input is khokho\n",
      "The string is symmertical\n",
      "The string is not a palindrome\n",
      "\n",
      "The string input is amaama\n",
      "The string is symmertical\n",
      "The string is a palindrome\n",
      "\n",
      "The string input is Khokho\n",
      "The string is non symmertrical\n",
      "The string is not a palindrome\n",
      "\n",
      "The string input is malayalam\n",
      "The string is non symmertrical\n",
      "The string is a palindrome\n"
     ]
    }
   ],
   "source": [
    "import re\n",
    "def is_symmetrical(s):\n",
    "    midpoint = len(s)//2\n",
    "    if s[:midpoint] == s[midpoint:]:\n",
    "        print('The string is symmertical')\n",
    "    else:\n",
    "        print('The string is non symmertrical')\n",
    "\n",
    "def is_palindrome(s):\n",
    "    if s == s[::-1] :\n",
    "        print('The string is a palindrome')\n",
    "    else:\n",
    "        print('The string is not a palindrome')\n",
    "\n",
    "def main(s):\n",
    "    print(\"The string input is\",s)\n",
    "    if len(s) == 0:\n",
    "        print('Invalid String')\n",
    "    \n",
    "    clean_s = re.sub(r'[^a-zA-Z0-9]', '', s).lower()\n",
    "    is_symmetrical(s)\n",
    "    is_palindrome(clean_s)\n",
    "\n",
    "main(\"khokho\")\n",
    "print()\n",
    "main(\"amaama\")\n",
    "print()\n",
    "main(\"Khokho\")\n",
    "print()\n",
    "main(\"malayalam\")"
   ]
  },
  {
   "cell_type": "markdown",
   "metadata": {},
   "source": [
    "Q11. The problem is to convert half of a string to uppercase, either the first half or the second half, depending on the requirement. For example, given the string “python”, the output could be “PYThon” (uppercase first half) or “pytHON” (uppercase second half).\n",
    "\n",
    "Solution1.: \n",
    "- Get the midpoint based on len of str\n",
    "- Slice either [:midpoint] or [midpoint:] and convert to upper\n",
    "- Join the other half to the above\n",
    "\n",
    "Solution2.:\n",
    "- Declar str var\n",
    "- Calculate mid index\n",
    "- Iterate and convert using for loop until mid ind"
   ]
  },
  {
   "cell_type": "markdown",
   "metadata": {},
   "source": [
    "Q12. capitalize the first and last character of each word in a string in Python. It involves processing each word to transform its first and last letters to uppercase, while making the other characters lowercase."
   ]
  },
  {
   "cell_type": "code",
   "execution_count": 136,
   "metadata": {},
   "outputs": [
    {
     "name": "stdout",
     "output_type": "stream",
     "text": [
      "HellO WorlD\n",
      "BananA\n",
      "A\n",
      "ProgramminG IS FuN\n"
     ]
    }
   ],
   "source": [
    "def capitalize_first_last_char(s):\n",
    "    words_list = s.split()\n",
    "    new_s = []\n",
    "    \n",
    "    for word in words_list:\n",
    "        if len(word) == 1:\n",
    "            new_word = word.upper()  # If it's a single letter, capitalize it\n",
    "        else:\n",
    "            new_word = word[0].upper() + word[1:-1] + word[-1].upper()\n",
    "        \n",
    "        new_s.append(new_word)  # Append to list instead of string concatenation\n",
    "    \n",
    "    result = \" \".join(new_s)  # Join list with spaces\n",
    "    print(result)\n",
    "\n",
    "capitalize_first_last_char(\"hello world\")\n",
    "capitalize_first_last_char(\"banana\")\n",
    "capitalize_first_last_char(\"a\")\n",
    "capitalize_first_last_char(\"programming is fun\")"
   ]
  },
  {
   "cell_type": "markdown",
   "metadata": {},
   "source": [
    "Q13. The requirement is to check whether a given string contains at least one letter (A–Z or a–z) and at least one digit (0–9).\n",
    "\n",
    "Solutions.:\n",
    "\n",
    "- isalnum() - builtin method\n",
    "- isalpha() and isdigit()\n",
    "- using re exp\n",
    "    - r'[a-zA-Z]' --> alpha expression\n",
    "    - r'[0-9] --> digits exp"
   ]
  },
  {
   "cell_type": "markdown",
   "metadata": {},
   "source": [
    "Q14. The problem is to determine if a string contains all the vowels: a, e, i, o, u. "
   ]
  },
  {
   "cell_type": "code",
   "execution_count": 137,
   "metadata": {},
   "outputs": [
    {
     "name": "stdout",
     "output_type": "stream",
     "text": [
      "False\n",
      "True\n"
     ]
    }
   ],
   "source": [
    "def contains_vowels(s):\n",
    "    v = set(\"aeiou\")\n",
    "    unique_s = set(s.lower())\n",
    "    if v.issubset(unique_s):\n",
    "        print(True)\n",
    "    else:\n",
    "        print(False)\n",
    "\n",
    "contains_vowels(\"geeksforgeeks\")\n",
    "contains_vowels(\"education\")"
   ]
  },
  {
   "cell_type": "markdown",
   "metadata": {},
   "source": [
    "Q15. The problem is about finding how many characters are the same in two strings. We compare the strings and count the common characters between them."
   ]
  },
  {
   "cell_type": "code",
   "execution_count": 138,
   "metadata": {},
   "outputs": [
    {
     "name": "stdout",
     "output_type": "stream",
     "text": [
      "6\n"
     ]
    }
   ],
   "source": [
    "def common_char(s1,s2):\n",
    "    unique_s1 = set(s1.lower())\n",
    "    unique_s2 = set(s2.lower())\n",
    "    # print(unique_s1)\n",
    "    # print(unique_s2)\n",
    "    print(len(unique_s1.intersection(unique_s2)))\n",
    "\n",
    "common_char(\"VISHAKSHI\",\"VANSHIKA\")\n",
    "    "
   ]
  },
  {
   "cell_type": "markdown",
   "metadata": {},
   "source": [
    "Q16. Given a string, count the number of vowels present in the given string (basically how many times the vowels have been repeated)\n",
    "\n",
    "Highlight.:\n",
    "- Usage of Counter() and defaultdict() - refer notes for more examples"
   ]
  },
  {
   "cell_type": "code",
   "execution_count": 139,
   "metadata": {},
   "outputs": [
    {
     "name": "stdout",
     "output_type": "stream",
     "text": [
      "{'e': 4, 'o': 1}\n"
     ]
    }
   ],
   "source": [
    "from collections import defaultdict\n",
    "def num_of_vowels(s):\n",
    "    vowels_dict = defaultdict(int)\n",
    "    vowels_set = set('aeiou')\n",
    "    for char in s:\n",
    "        if char in vowels_set:\n",
    "            vowels_dict[char] +=1\n",
    "    print(dict(vowels_dict))\n",
    "\n",
    "num_of_vowels(\"GeeksforGeeks\")\n",
    "\n",
    "# from collections import Counter\n",
    "\n",
    "# def num_of_vowels(s):\n",
    "#     s = s.lower()\n",
    "#     vowels = \"aeiou\"\n",
    "#     vowel_counts = Counter(char for char in s if char in vowels)\n",
    "#     print(dict(vowel_counts))\n",
    "\n",
    "# num_of_vowels(\"GeeksforGeeks\")\n"
   ]
  },
  {
   "cell_type": "markdown",
   "metadata": {},
   "source": [
    "##### Character Frequency - I\n",
    "\n",
    "- Q18. The task is to find the least frequent character in a string, we count how many times each character appears and pick the one with the lowest count.\n",
    "- Q19. Max frequency character\n",
    "- Q20. Odd frequency characters\n",
    "- Q21. Even frequency characters"
   ]
  },
  {
   "cell_type": "code",
   "execution_count": 140,
   "metadata": {},
   "outputs": [
    {
     "name": "stdout",
     "output_type": "stream",
     "text": [
      "Char count dict for str {'G': 2, 'e': 4, 'k': 2, 's': 2, 'f': 1, 'o': 1, 'r': 1}\n",
      "The keys with max values are:  ['e']\n",
      "The keys with min values are :  ['f', 'o', 'r']\n",
      "The keys with odd freq are :  ['f', 'o', 'r']\n",
      "The keys with even freq are :  ['G', 'e', 'k', 's']\n"
     ]
    }
   ],
   "source": [
    "from collections import Counter\n",
    "\n",
    "#NOTES.: \n",
    "# - For case-insesitivie either convert to upper/lower case first\n",
    "# - Inorder to handle spaces strip and replace first\n",
    "\n",
    "def least_max_freq_char(s):\n",
    "    char_freq_dict = Counter(s)\n",
    "    print(\"Char count dict for str\",dict(char_freq_dict))\n",
    "    least_val = min(char_freq_dict.values())\n",
    "    least_val_list = []\n",
    "    max_val = max(char_freq_dict.values())\n",
    "    max_val_list = []\n",
    "    odd_freq_char = []\n",
    "    even_freq_char = []\n",
    "\n",
    "    for k,v in char_freq_dict.items():\n",
    "        if v == least_val:\n",
    "            least_val_list.append(k)\n",
    "\n",
    "        if v == max_val:\n",
    "            max_val_list.append(k)\n",
    "        \n",
    "        if v%2 != 0:\n",
    "            odd_freq_char.append(k)\n",
    "        \n",
    "        if v%2 == 0:\n",
    "            even_freq_char.append(k)\n",
    "\n",
    "    print('The keys with max values are: ',max_val_list)\n",
    "    print('The keys with min values are : ',least_val_list)\n",
    "    print('The keys with odd freq are : ', odd_freq_char)\n",
    "    print('The keys with even freq are : ', even_freq_char)\n",
    "\n",
    "\n",
    "    # print(max(char_freq_dict.keys())) --> gives based on alphabetical order\n",
    "least_max_freq_char(\"GeeksforGeeks\")\n"
   ]
  },
  {
   "cell_type": "markdown",
   "metadata": {},
   "source": [
    "Q22. Specific char freq in a string : Given a String list, extract frequency of specific characters in the whole strings list.\n",
    "\n",
    "\n",
    "`Input : test_list = [“geeksforgeeks is best for geeks”], chr_list = [‘e’, ‘b’, ‘g’, ‘f’] \n",
    "Output : {‘g’: 3, ‘e’: 7, ‘b’: 1, ‘f’ : 2}`"
   ]
  },
  {
   "cell_type": "code",
   "execution_count": 141,
   "metadata": {},
   "outputs": [
    {
     "name": "stdout",
     "output_type": "stream",
     "text": [
      "{'e': 7, 'b': 1, 'g': 3, 'f': 2}\n",
      "{'e': 4, 'g': 2}\n"
     ]
    }
   ],
   "source": [
    "from collections import Counter\n",
    "\n",
    "def specific_char(s,char_list):\n",
    "    clean_s = s.replace(\" \",\"\")\n",
    "    freq_char_dict = Counter(clean_s)\n",
    "    # Extract only required characters from char_list\n",
    "    result = {char: freq_char_dict[char] for char in char_list}\n",
    "    print(result)\n",
    "\n",
    "specific_char(\"geeksforgeeks is best for geeks\",['e','b','g','f'])\n",
    "specific_char(\"geeksforgeeks\",['e','g'])"
   ]
  },
  {
   "cell_type": "markdown",
   "metadata": {},
   "source": [
    "Q23. Freq of numbers : We are given a string and we have to determine how many numeric characters (digits) are present in the given string. For example: “Hello123World456” has 6 numeric characters (1, 2, 3, 4, 5, 6).\n",
    "\n",
    "*refer `map` notes for more details on the working*"
   ]
  },
  {
   "cell_type": "code",
   "execution_count": 142,
   "metadata": {},
   "outputs": [
    {
     "name": "stdout",
     "output_type": "stream",
     "text": [
      "Count of numerics in string : 3\n"
     ]
    }
   ],
   "source": [
    "s = \"geeks4feeks is No. 1 4 geeks\"\n",
    " \n",
    "# Frequency of numbers in String\n",
    "res = sum(map(str.isdigit, s))\n",
    " \n",
    "print(\"Count of numerics in string : \" + str(res))\n",
    "\n",
    "\n",
    "# Alternative1\n",
    "# res = 0\n",
    "# for i in s:\n",
    "#     if i.isdigit():\n",
    "#         res += 1\n",
    "\n",
    "# print(\"Count of numerics in string : \" + str(res))\n",
    "\n",
    "#Alternative2\n",
    "# res = 0\n",
    "# digits = \"0123456789\"\n",
    "# for i in s:\n",
    "#     if i in digits:\n",
    "#         res += 1\n",
    "\n",
    "# print(\"Count of numerics in string : \" + str(res))\n",
    "\n"
   ]
  },
  {
   "cell_type": "code",
   "execution_count": null,
   "metadata": {},
   "outputs": [],
   "source": []
  }
 ],
 "metadata": {
  "kernelspec": {
   "display_name": "Python 3",
   "language": "python",
   "name": "python3"
  },
  "language_info": {
   "codemirror_mode": {
    "name": "ipython",
    "version": 3
   },
   "file_extension": ".py",
   "mimetype": "text/x-python",
   "name": "python",
   "nbconvert_exporter": "python",
   "pygments_lexer": "ipython3",
   "version": "3.13.1"
  }
 },
 "nbformat": 4,
 "nbformat_minor": 2
}
