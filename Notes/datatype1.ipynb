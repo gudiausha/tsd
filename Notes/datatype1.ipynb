{
 "cells": [
  {
   "cell_type": "markdown",
   "metadata": {},
   "source": [
    "# Sequence Datatype I\n",
    "\n",
    "The following sequence types have been discussed\n",
    "\n",
    "- List\n",
    "    - Properties\n",
    "    - Common Methods with example\n",
    "    - Shallow Copy Vs Deep Copy\n",
    "    - Resizing\n",
    "- Tuples\n",
    "    - Properties\n",
    "- Tuples Vs Lists : Performance & Flexibility\n",
    "- Problems"
   ]
  },
  {
   "cell_type": "markdown",
   "metadata": {},
   "source": [
    "### List properties\n",
    "\n",
    "- Ordered: They contain elements or items that are sequentially arranged according to their specific insertion order.\n",
    "- Zero-based: They allow you to access their elements by indices that start from zero.\n",
    "- Mutable: They support in-place mutations or changes to their contained elements.\n",
    "- Heterogeneous: They can store objects of different types.\n",
    "- Growable and dynamic: They can grow or shrink dynamically, which means that they support the addition, insertion, and removal of elements.\n",
    "- Nestable: They can contain other lists, so you can have lists of lists.\n",
    "- Iterable: They support iteration, so you can traverse them using a loop or comprehension while you perform operations on each of their elements.\n",
    "- Sliceable: They support slicing operations, meaning that you can extract a series of elements from them.\n",
    "- Combinable: They support concatenation operations, so you can combine two or more lists using the concatenation operators.\n",
    "- Copyable: They allow you to make copies of their content using various techniques."
   ]
  },
  {
   "cell_type": "markdown",
   "metadata": {},
   "source": [
    "### Methods\n",
    "- append(): Adds an element to the end of the list.\n",
    "- copy(): Returns a shallow copy of the list.\n",
    "- clear(): Removes all elements from the list.\n",
    "- count(): Returns the number of times a specified element appears in the list.\n",
    "- extend(): Adds elements from another list to the end of the current list.\n",
    "- index(): Returns the index of the first occurrence of a specified element.\n",
    "- insert(): Inserts an element at a specified position.\n",
    "- pop(): Removes and returns the element at the specified position (or the last element if no index is specified).\n",
    "- remove(): Removes the first occurrence of a specified element.\n",
    "- reverse(): Reverses the order of the elements in the list in place\n",
    "- sort(): Sorts the list in ascending order (by default). Works inplace, returns None."
   ]
  },
  {
   "cell_type": "code",
   "execution_count": 1,
   "metadata": {},
   "outputs": [
    {
     "name": "stdout",
     "output_type": "stream",
     "text": [
      "Original List: [1, 2, 3, 4, 5]\n",
      "After append(6): [1, 2, 3, 4, 5, 6]\n",
      "After extend([7, 8, 9]): [1, 2, 3, 4, 5, 6, 7, 8, 9]\n",
      "After insert(2, 10): [1, 2, 10, 3, 4, 5, 6, 7, 8, 9]\n",
      "After remove(3): [1, 2, 10, 4, 5, 6, 7, 8, 9]\n",
      "After pop(): [1, 2, 10, 4, 5, 6, 7, 8] | Popped element: 9\n",
      "After pop(2): [1, 2, 4, 5, 6, 7, 8] | Popped element at index 2: 10\n",
      "After clear(): []\n",
      "Index of 4: 2\n",
      "Count of 2: 1\n",
      "After sort(): [1, 1, 2, 3, 4, 5, 9]\n",
      "After reverse(): [9, 5, 4, 3, 2, 1, 1]\n",
      "Copied list: [1, 2, 4, 5, 6, 7, 8]\n",
      "List comprehension (squared elements): [1, 4, 16, 25, 36, 49, 64]\n",
      "After del my_list[1]: [1, 4, 5, 6, 7, 8]\n",
      "After del my_list[:]: []\n"
     ]
    }
   ],
   "source": [
    "# Creating a list\n",
    "my_list = [1, 2, 3, 4, 5]\n",
    "print(\"Original List:\", my_list)\n",
    "\n",
    "# 1. append() - Add an item to the end\n",
    "my_list.append(6)\n",
    "print(\"After append(6):\", my_list)\n",
    "\n",
    "# 2. extend() - Extend list by adding elements from another iterable\n",
    "my_list.extend([7, 8, 9])\n",
    "print(\"After extend([7, 8, 9]):\", my_list)\n",
    "\n",
    "# 3. insert() - Insert element at a specific index\n",
    "my_list.insert(2, 10)\n",
    "print(\"After insert(2, 10):\", my_list)\n",
    "\n",
    "# 4. remove() - Remove first occurrence of a value\n",
    "my_list.remove(3)\n",
    "print(\"After remove(3):\", my_list)\n",
    "\n",
    "# 5. pop() - Remove and return an item (default last)\n",
    "popped_element = my_list.pop()\n",
    "print(\"After pop():\", my_list, \"| Popped element:\", popped_element)\n",
    "\n",
    "popped_element_at_index = my_list.pop(2)\n",
    "print(\"After pop(2):\", my_list, \"| Popped element at index 2:\", popped_element_at_index)\n",
    "\n",
    "# 6. clear() - Remove all elements\n",
    "temp_list = my_list.copy()\n",
    "temp_list.clear()\n",
    "print(\"After clear():\", temp_list)\n",
    "\n",
    "# 7. index() - Get index of first occurrence\n",
    "index_of_4 = my_list.index(4)\n",
    "print(\"Index of 4:\", index_of_4)\n",
    "\n",
    "# 8. count() - Count occurrences of an element\n",
    "count_of_2 = my_list.count(2)\n",
    "print(\"Count of 2:\", count_of_2)\n",
    "\n",
    "# 9. sort() - Sort list (default ascending)\n",
    "unsorted_list = [3, 1, 4, 1, 5, 9, 2]\n",
    "unsorted_list.sort()\n",
    "print(\"After sort():\", unsorted_list)\n",
    "\n",
    "# 10. reverse() - Reverse order of elements\n",
    "unsorted_list.reverse()\n",
    "print(\"After reverse():\", unsorted_list)\n",
    "\n",
    "# 11. copy() - Return a shallow copy of the list\n",
    "copied_list = my_list.copy()\n",
    "print(\"Copied list:\", copied_list)\n",
    "\n",
    "# 12. list comprehension (not a method but useful)\n",
    "squared_list = [x ** 2 for x in my_list]\n",
    "print(\"List comprehension (squared elements):\", squared_list)\n",
    "\n",
    "# 13. Using `del` to delete elements by index or entire list\n",
    "del my_list[1]\n",
    "print(\"After del my_list[1]:\", my_list)\n",
    "\n",
    "del my_list[:]  # Equivalent to my_list.clear()\n",
    "print(\"After del my_list[:]:\", my_list)\n"
   ]
  },
  {
   "cell_type": "markdown",
   "metadata": {},
   "source": [
    "### Shallow Copy vs Deep Copy\n",
    "A shallow copy of a list creates a new list with references to the same objects contained in the original list, meaning changes to those objects in the copy will also affect the original list; while a deep copy creates a completely independent copy, where each element within the list is duplicated, so modifying one copy does not impact the other\n",
    "\n",
    "**Shallow copy:**\n",
    "- Only copies the top-level elements of a list. \n",
    "- If the list contains nested lists, the references to those nested lists are copied, not the nested lists themselves. \n",
    "- Faster than a deep copy. \n",
    "\n",
    "**Deep copy:**\n",
    "- Recursively copies all elements within a list, including nested lists and mutable objects. \n",
    "- Creates completely independent copies, so changes to one copy do not affect the other. \n",
    "- Slower than a shallow copy due to the recursive nature. "
   ]
  },
  {
   "cell_type": "code",
   "execution_count": 2,
   "metadata": {},
   "outputs": [
    {
     "data": {
      "text/plain": [
       "False"
      ]
     },
     "execution_count": 2,
     "metadata": {},
     "output_type": "execute_result"
    }
   ],
   "source": [
    "from copy import deepcopy\n",
    "\n",
    "matrix = [[1, 2, 3], [4, 5, 6], [7, 8, 9]]\n",
    "matrix_copy = deepcopy(matrix)\n",
    "\n",
    "id(matrix) == id(matrix_copy)\n",
    "id(matrix[0]) == id(matrix_copy[0])\n",
    "id(matrix[1]) == id(matrix_copy[1])\n"
   ]
  },
  {
   "cell_type": "markdown",
   "metadata": {},
   "source": [
    "### Resizing\n",
    "\n",
    "- While creating a list, Python allocates enough space to store the elements. It also allocates extra space for storing new elements.\n",
    "- When new items are added using `.append()` ; `.extend()` and `.insert()` methods python automatically creates additional space.\n",
    "- Python creates a new one with room for the current data and the extra items. Then it moves the current items to the new list and adds the new item or items.\n",
    "- In practice, for small lists, the overall impact of this internal behavior is negligible. However, in performance-critical situations or when the lists are large, it is better to use more efficient data types, such as `collections.deque`"
   ]
  },
  {
   "cell_type": "markdown",
   "metadata": {},
   "source": [
    "### Tuples\n",
    "- Almost all operations are same as list. The following are differences.:\n",
    "### Properties\n",
    "- Immutable sequence data type\n",
    "    - We cannot update items to a tuple once it is created. \n",
    "    - Tuples cannot be appended or extended.\n",
    "    - We cannot remove items from a tuple once it is created. \n",
    "- **Few details on immutability to take care of**.:\n",
    "    - Tuples can store any type of object, including mutable ones. This means that you can store lists, sets, dictionaries, and other mutable objects in a tuple.\n",
    "    - Therefore can use tuples as keys in a dictionary only if all their items are of hashable types. Otherwise, will get an error.\n",
    "    - Eg below.:"
   ]
  },
  {
   "cell_type": "code",
   "execution_count": 3,
   "metadata": {},
   "outputs": [],
   "source": [
    "student_info = (\"Linda\", 18, [\"Math\", \"Physics\", \"History\"])"
   ]
  },
  {
   "cell_type": "markdown",
   "metadata": {},
   "source": [
    "This tuple stores information about a student. The first two items are immutable. The third item is a list of subjects. Python’s lists are mutable, and therefore, we can change their items in place. This is possible even if the target list is nested in an immutable data type like `tuple`.\n"
   ]
  },
  {
   "cell_type": "code",
   "execution_count": 4,
   "metadata": {},
   "outputs": [
    {
     "data": {
      "text/plain": [
       "('Linda', 18, ['Math', 'Physics', 'Computer science'])"
      ]
     },
     "execution_count": 4,
     "metadata": {},
     "output_type": "execute_result"
    }
   ],
   "source": [
    "student_info[2][2] = \"Computer science\"\n",
    "student_info\n"
   ]
  },
  {
   "cell_type": "markdown",
   "metadata": {},
   "source": [
    "### **Tuple vs List: Performance & Flexibility**  \n",
    "\n",
    "Choosing between a **tuple** and a **list** depends on the trade-off between **performance (speed, memory efficiency)** and **flexibility (mutability, operations)**.  \n",
    "\n",
    "---\n",
    "\n",
    "## **1️⃣ Performance Comparison**\n",
    "| Feature        | **Tuple (Immutable)** | **List (Mutable)** |\n",
    "|---------------|----------------------|--------------------|\n",
    "| **Speed**    | Faster 🚀 (Fixed size, less overhead) | Slower 🐢 (Dynamic resizing) |\n",
    "| **Memory Usage** | Less (No extra space for growth) | More (Allocates extra space) |\n",
    "| **Iteration** | Faster (Cache-friendly, optimized) | Slower (More memory overhead) |\n",
    "| **Modification** | ❌ Not possible | ✅ Possible (append, insert, remove) |\n",
    "| **Copying Overhead** | Low (Stored in a single memory block) | High (Allocated dynamically) |\n",
    "\n",
    "### **🔹 Speed Test**\n",
    "```python\n",
    "import timeit\n",
    "\n",
    "# Creating a list and tuple of 10 million elements\n",
    "lst = list(range(10**7))\n",
    "tpl = tuple(range(10**7))\n",
    "\n",
    "# Measuring lookup speed\n",
    "print(\"List lookup:\", timeit.timeit(lambda: 9999999 in lst, number=100))\n",
    "print(\"Tuple lookup:\", timeit.timeit(lambda: 9999999 in tpl, number=100))\n",
    "```\n",
    "📌 **Results:** Tuples are slightly faster in iteration and lookup due to better memory locality.  \n",
    "\n",
    "---\n",
    "\n",
    "## **2️⃣ Flexibility Comparison**\n",
    "| Feature         | **Tuple (Immutable)** | **List (Mutable)** |\n",
    "|----------------|----------------------|--------------------|\n",
    "| **Mutability** | ❌ Cannot be changed after creation | ✅ Can be modified dynamically |\n",
    "| **Appending/Removing** | ❌ Not possible | ✅ Yes (`append()`, `remove()`, etc.) |\n",
    "| **Slicing** | ✅ Supported | ✅ Supported |\n",
    "| **Dictionary Keys** | ✅ Hashable (Can be a key) | ❌ Not Hashable (Cannot be a key) |\n",
    "\n",
    "**Example:**  \n",
    "```python\n",
    "# Tuples as dictionary keys\n",
    "my_dict = { (1, 2): \"Tuple Key\" }  # ✅ Works\n",
    "my_dict[[1, 2]] = \"List Key\"  # ❌ TypeError: unhashable type\n",
    "```\n",
    "\n",
    "📌 **Why?** Tuples are immutable, making them hashable and usable as dictionary keys, whereas lists are not.\n",
    "\n",
    "---\n",
    "\n",
    "## **3️⃣ When to Use What?**\n",
    "| **Scenario**           | **Best Choice** | **Reason** |\n",
    "|------------------------|----------------|------------|\n",
    "| Fixed data (coordinates, DB records) | **Tuple** ✅ | Immutable, safer |\n",
    "| Large data (iteration-heavy tasks) | **Tuple** ✅ | Faster, less memory |\n",
    "| Dynamic data (adding/removing elements) | **List** ✅ | Mutable, flexible |\n",
    "| Using as a dictionary key | **Tuple** ✅ | Hashable |\n",
    "| Heavy computation with frequent modifications | **List** ✅ | Allows in-place changes |\n",
    "\n",
    "---\n",
    "\n",
    "## **Final Verdict**\n",
    "✔️ **Choose Tuples** when **performance, immutability, and memory efficiency** matter.  \n",
    "✔️ **Choose Lists** when **flexibility, modifications, and dynamic resizing** are needed.  \n",
    "\n",
    "🔹 **If your data never changes, use a tuple for better speed & memory efficiency!** 🚀"
   ]
  },
  {
   "cell_type": "code",
   "execution_count": null,
   "metadata": {},
   "outputs": [],
   "source": []
  }
 ],
 "metadata": {
  "kernelspec": {
   "display_name": "Python 3",
   "language": "python",
   "name": "python3"
  },
  "language_info": {
   "codemirror_mode": {
    "name": "ipython",
    "version": 3
   },
   "file_extension": ".py",
   "mimetype": "text/x-python",
   "name": "python",
   "nbconvert_exporter": "python",
   "pygments_lexer": "ipython3",
   "version": "3.13.1"
  }
 },
 "nbformat": 4,
 "nbformat_minor": 2
}
