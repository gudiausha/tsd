{
 "cells": [
  {
   "cell_type": "markdown",
   "metadata": {},
   "source": [
    "# 11/02/2025"
   ]
  },
  {
   "cell_type": "markdown",
   "metadata": {},
   "source": [
    "Strictly Dedicate only 2 hrs.\n",
    "## Dictionary\n",
    "\n",
    "https://www.geeksforgeeks.org/python-group-similar-items-to-dictionary-values-list/\n",
    "https://www.geeksforgeeks.org/kth-non-repeating-character-python-using-list-comprehension-ordereddict/\n",
    "https://www.geeksforgeeks.org/python-replace-string-by-kth-dictionary-value/?ref=leftbar-rightbar\n",
    "\n",
    "## JSON Conversion\n",
    "\n",
    "https://www.geeksforgeeks.org/convert-class-object-to-json-in-python/\n",
    "https://www.geeksforgeeks.org/convert-json-data-into-a-custom-python-object/\n",
    "https://www.geeksforgeeks.org/flattening-json-objects-in-python/\n",
    "https://www.geeksforgeeks.org/convert-csv-to-json-using-python/\n",
    "https://www.geeksforgeeks.org/how-to-merge-multiple-json-files-using-python/\n",
    "https://www.geeksforgeeks.org/python-json-data-filtering/\n",
    "https://www.geeksforgeeks.org/escape-double-quotes-for-json-in-python/\n",
    "https://www.geeksforgeeks.org/python-program-to-extract-a-single-value-from-json-response/\n",
    "https://www.geeksforgeeks.org/convert-multiple-json-files-to-csv-python/\n",
    "https://www.geeksforgeeks.org/how-to-convert-python-dictionary-to-json/\n",
    "https://www.geeksforgeeks.org/python-convert-json-to-string/\n",
    "https://www.geeksforgeeks.org/saving-text-json-and-csv-to-a-file-in-python/\n",
    "https://www.geeksforgeeks.org/convert-text-file-to-json-in-python/\n",
    "https://www.geeksforgeeks.org/convert-json-to-csv-in-python/\n",
    "https://www.geeksforgeeks.org/convert-json-to-dictionary-in-python/\n",
    "https://www.geeksforgeeks.org/parsing-json-with-single-and-double-quote-in-python/\n",
    "https://www.geeksforgeeks.org/how-to-extract-or-parse-json-from-a-string-in-python/\n",
    "https://www.geeksforgeeks.org/python-json-sort/\n",
    "\n",
    "\n"
   ]
  },
  {
   "cell_type": "markdown",
   "metadata": {},
   "source": [
    "Move to threading saved bookmarked articles - understand the problems properly and take notes"
   ]
  },
  {
   "cell_type": "markdown",
   "metadata": {},
   "source": [
    "### Notes I\n",
    "- sort()\n",
    "    - sorts the elements of a list\n",
    "    - Syntax: iterable.sort(reverse, key)\n",
    "        - reverse - By default False. If True is passed, the list is sorted in descending order.\n",
    "        - key - Comparion is based on this function.\n",
    "- sorted()\n",
    "    - sorts the elements of the given iterable in ascending order and returns it.\n",
    "    - not inplace\n",
    "    - Syntax: sorted(iterable,reverse,key)\n",
    "        - key - function that determines the basis for sort comparison. Default value - None\n",
    "        - reverse - boolean that decides the sorting order. If True, the list is sorted in descending order\n",
    "- Handling missing keys in python dictionary\n",
    "    - `get()` method - specify default value\n",
    "        - Syntax: get(key,def_val)\n",
    "    - use default dict from collections - for iterables it specifies a default value\n",
    "    - `setdefault()` method\n",
    "        - Syntax: setdefault(key, def_value)\n",
    "        - works similar to `get()`, but each time a key is absent, a new key is created with the def_value associated with the key passed in arguments\n",
    "- `getsizeof()`\n",
    "    - get the size of the obj in bytes"
   ]
  },
  {
   "cell_type": "code",
   "execution_count": 8,
   "metadata": {},
   "outputs": [
    {
     "name": "stdout",
     "output_type": "stream",
     "text": [
      "184\n"
     ]
    }
   ],
   "source": [
    "import sys\n",
    "\n",
    "d1 = {'a': 1, 'b': 2, 'c': 3}\n",
    "\n",
    "# Getting the size of the dictionary in bytes\n",
    "size = sys.getsizeof(d1)\n",
    "\n",
    "print(size)\n"
   ]
  },
  {
   "cell_type": "code",
   "execution_count": 5,
   "metadata": {},
   "outputs": [
    {
     "name": "stdout",
     "output_type": "stream",
     "text": [
      "0091\n",
      "Not Found\n"
     ]
    }
   ],
   "source": [
    "country_code = {'India' : '0091',\n",
    "\t\t\t\t'Australia' : '0025',\n",
    "\t\t\t\t'Nepal' : '00977'}\n",
    "\n",
    "# search dictionary for country code of India\n",
    "print(country_code.get('India', 'Not Found'))\n",
    "\n",
    "# search dictionary for country code of Japan\n",
    "print(country_code.get('Japan', 'Not Found'))\n"
   ]
  },
  {
   "cell_type": "code",
   "execution_count": 7,
   "metadata": {},
   "outputs": [
    {
     "name": "stdout",
     "output_type": "stream",
     "text": [
      "0091\n",
      "Not Present\n",
      "{'India': '0091', 'Australia': '0025', 'Nepal': '00977', 'Japan': 'Not Present'}\n"
     ]
    }
   ],
   "source": [
    "country_code = {'India' : '0091',\n",
    "\t\t\t\t'Australia' : '0025',\n",
    "\t\t\t\t'Nepal' : '00977'}\n",
    "\n",
    "# Set a default value for Japan\n",
    "country_code.setdefault('Japan', 'Not Present') \n",
    "\n",
    "# search dictionary for country code of India\n",
    "print(country_code['India'])\n",
    "\n",
    "# search dictionary for country code of Japan\n",
    "print(country_code['Japan'])\n",
    "\n",
    "print(country_code) #A key for Japan is created"
   ]
  },
  {
   "cell_type": "code",
   "execution_count": 4,
   "metadata": {},
   "outputs": [
    {
     "name": "stdout",
     "output_type": "stream",
     "text": [
      "Sorted list: ['kiwi', 'apple', 'banana', 'pomegranate']\n",
      "1267933169024\n",
      "1267908218816\n"
     ]
    }
   ],
   "source": [
    "fruits = ['apple', 'banana', 'kiwi', 'pomegranate']\n",
    "\n",
    "# sorts the list based on the length of each string\n",
    "sorted_fruits = sorted(fruits, key=len)\n",
    "\n",
    "print('Sorted list:', sorted_fruits)\n",
    "\n",
    "print(id(fruits))\n",
    "print(id(sorted_fruits))\n"
   ]
  },
  {
   "cell_type": "code",
   "execution_count": 3,
   "metadata": {},
   "outputs": [
    {
     "name": "stdout",
     "output_type": "stream",
     "text": [
      "[{'name': 'Eve', 'score': 78}, {'name': 'Alice', 'score': 85}, {'name': 'Bob', 'score': 91}]\n"
     ]
    }
   ],
   "source": [
    "a = [\n",
    "    {\"name\": \"Alice\", \"score\": 85},\n",
    "    {\"name\": \"Bob\", \"score\": 91},\n",
    "    {\"name\": \"Eve\", \"score\": 78}\n",
    "]\n",
    "\n",
    "# Use sorted() to sort the list 'a' based on the 'score' key\n",
    "# sorted() returns a new list with dictionaries sorted by the 'score'\n",
    "b = sorted(a, key=lambda x: x['score'])\n",
    "print(b)\n"
   ]
  },
  {
   "cell_type": "code",
   "execution_count": 1,
   "metadata": {},
   "outputs": [
    {
     "name": "stdout",
     "output_type": "stream",
     "text": [
      "['a', 'gh', 'abc', 'wxyz']\n"
     ]
    }
   ],
   "source": [
    "text = [\"abc\", \"wxyz\", \"gh\", \"a\"]\n",
    "\n",
    "# stort strings based on their length\n",
    "text.sort(key = len)\n",
    "print(text)\n"
   ]
  },
  {
   "cell_type": "markdown",
   "metadata": {},
   "source": [
    "### Notes II\n",
    "\n",
    "- itemgetter()\n",
    "    - useful when working with complex data structures that have nested lists or dictionaries\n",
    "    - used for retrieving items from an iterable object such as a list, tuple, or dictionary. The function allows you to specify the index or key of the item you want to retrieve.\n",
    "    - Also used for sorting"
   ]
  },
  {
   "cell_type": "code",
   "execution_count": 9,
   "metadata": {},
   "outputs": [
    {
     "name": "stdout",
     "output_type": "stream",
     "text": [
      "[{'name': 'John', 'age': 15, 'grade': 'A'}, {'name': 'Dave', 'age': 14, 'grade': 'B'}, {'name': 'Jane', 'age': 16, 'grade': 'B'}, {'name': 'Alice', 'age': 15, 'grade': 'C'}]\n"
     ]
    }
   ],
   "source": [
    "\n",
    "from operator import itemgetter\n",
    "\n",
    "students = [\n",
    "   {'name': 'John', 'age': 15, 'grade': 'A'},\n",
    "   {'name': 'Jane', 'age': 16, 'grade': 'B'},\n",
    "   {'name': 'Dave', 'age': 14, 'grade': 'B'},\n",
    "   {'name': 'Alice', 'age': 15, 'grade': 'C'}\n",
    "]\n",
    "\n",
    "sorted_students = sorted(students, key=itemgetter('grade', 'age'))\n",
    "\n",
    "print(sorted_students) #sort based on grade, followed by age (input is list of dicts)\n"
   ]
  },
  {
   "cell_type": "code",
   "execution_count": 17,
   "metadata": {},
   "outputs": [
    {
     "name": "stdout",
     "output_type": "stream",
     "text": [
      "[80, 90, 70]\n",
      "[('Bob', 90), ('Alice', 80), ('Charlie', 70)]\n"
     ]
    }
   ],
   "source": [
    "# itemgetter with lists\n",
    "\n",
    "students = [(\"Alice\", 80), (\"Bob\", 90), (\"Charlie\", 70)]\n",
    "\n",
    "grades = itemgetter(1) #index value of the items to be retrieved is specified\n",
    "\n",
    "print(list(map(grades, students)))\n",
    "\n",
    "# Sort by second ele in descending order\n",
    "students_sorted = sorted(students, key=itemgetter(1), reverse=True)\n",
    "print(students_sorted)\n",
    "\n"
   ]
  },
  {
   "cell_type": "code",
   "execution_count": 16,
   "metadata": {},
   "outputs": [
    {
     "name": "stdout",
     "output_type": "stream",
     "text": [
      "('Alice', 'Engineer')\n"
     ]
    }
   ],
   "source": [
    "# itemgetter with dicts\n",
    "\n",
    "person = {\"name\": \"Alice\", \"age\": 25, \"occupation\": \"Engineer\"}\n",
    "\n",
    "name_and_occupation = itemgetter(\"name\", \"occupation\")\n",
    "print(name_and_occupation(person))\n"
   ]
  },
  {
   "cell_type": "code",
   "execution_count": 21,
   "metadata": {},
   "outputs": [
    {
     "name": "stdout",
     "output_type": "stream",
     "text": [
      "{'x': 1, 'y': 3, 'z': 4}\n",
      "1267938770176\n",
      "{'x': 1, 'y': 3, 'z': 4}\n",
      "1267938770176 1267938730304\n"
     ]
    }
   ],
   "source": [
    "# Merging dictionaries\n",
    "\n",
    "d1 = {'x': 1, 'y': 2}\n",
    "d2 = {'y': 3, 'z': 4}\n",
    "\n",
    "d3 = d1 | d2\n",
    "print(d3)\n",
    "\n",
    "d1 = {'x': 1, 'y': 2}\n",
    "print(id(d1))\n",
    "d2 = {'y': 3, 'z': 4}\n",
    "\n",
    "d1.update(d2)\n",
    "print(d1)\n",
    "print(id(d1),id(d2))\n"
   ]
  },
  {
   "cell_type": "markdown",
   "metadata": {},
   "source": [
    "# Questions"
   ]
  },
  {
   "cell_type": "markdown",
   "metadata": {},
   "source": [
    "Q1. Sort Python Dictionary by Key or Value - There are two elements in a Python dictionary-keys and values. You can sort the dictionary by keys, values, or both.\n",
    "\n",
    "- Solution\n",
    "    - Use `dict.values()` and `d.keys()` - this returns a list\n",
    "    - use `list.sort()`\n",
    "    - can pass custom function to `sorted()`"
   ]
  },
  {
   "cell_type": "markdown",
   "metadata": {},
   "source": [
    "Q2. Find common elements in three sorted arrays by dictionary intersection."
   ]
  },
  {
   "cell_type": "code",
   "execution_count": 28,
   "metadata": {},
   "outputs": [
    {
     "name": "stdout",
     "output_type": "stream",
     "text": [
      "[20, 80]\n"
     ]
    }
   ],
   "source": [
    "from collections import Counter\n",
    "def common_elements(l1,l2,l3):\n",
    "    # common_dict = {}\n",
    "    common_list = l1+l2+l3\n",
    "    # print(common_list)\n",
    "    common_dict = Counter(common_list)\n",
    "    output = []\n",
    "    for k,v in common_dict.items():\n",
    "        if v>=3:\n",
    "            output.append(k)\n",
    "\n",
    "    print(output)\n",
    "\n",
    "ar1 = [1, 5, 10, 20, 40, 80]\n",
    "ar2 = [6, 7, 20, 80, 100]\n",
    "ar3 = [3, 4, 15, 20, 30, 70, 80, 120]\n",
    "\n",
    "# ar1 = [1, 5, 5]\n",
    "# ar2 = [3, 4, 5, 5, 10]\n",
    "# ar3 = [5, 5, 10, 20]\n",
    "common_elements(ar1,ar2,ar3)"
   ]
  },
  {
   "cell_type": "markdown",
   "metadata": {},
   "source": [
    "Q3. Key with Maximum Unique Values - The task involves finding the key whose list contains the most unique values in a dictionary."
   ]
  },
  {
   "cell_type": "code",
   "execution_count": 31,
   "metadata": {},
   "outputs": [
    {
     "name": "stdout",
     "output_type": "stream",
     "text": [
      "b\n"
     ]
    }
   ],
   "source": [
    "def most_unique_values(d):\n",
    "    max_key = None\n",
    "    max_unique_count = 0\n",
    "    \n",
    "    for k, v in d.items():  # Correct iteration over dictionary\n",
    "        unique_v = set(v)  # Convert list to set to get unique elements\n",
    "        unique_count = len(unique_v)  \n",
    "\n",
    "        if unique_count > max_unique_count:  \n",
    "            max_unique_count = unique_count\n",
    "            max_key = k  # Store the key with max unique values\n",
    "\n",
    "    print(max_key)  # Print the key instead of a list\n",
    "\n",
    "# Test case\n",
    "d = {\"A\": [1, 2, 2], \"b\": [3, 4, 5, 3], \"c\": [6, 7, 7, 8]}\n",
    "most_unique_values(d)\n"
   ]
  },
  {
   "cell_type": "code",
   "execution_count": null,
   "metadata": {},
   "outputs": [],
   "source": []
  }
 ],
 "metadata": {
  "kernelspec": {
   "display_name": "Python 3",
   "language": "python",
   "name": "python3"
  },
  "language_info": {
   "codemirror_mode": {
    "name": "ipython",
    "version": 3
   },
   "file_extension": ".py",
   "mimetype": "text/x-python",
   "name": "python",
   "nbconvert_exporter": "python",
   "pygments_lexer": "ipython3",
   "version": "3.13.1"
  }
 },
 "nbformat": 4,
 "nbformat_minor": 2
}
