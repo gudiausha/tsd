{
 "cells": [
  {
   "cell_type": "markdown",
   "metadata": {},
   "source": [
    "## Python String Methods and Problems\n",
    "\n",
    "https://www.geeksforgeeks.org/python-exercises-practice-questions-and-solutions/?ref=dhm"
   ]
  },
  {
   "cell_type": "markdown",
   "metadata": {},
   "source": [
    "### Notes"
   ]
  },
  {
   "cell_type": "markdown",
   "metadata": {},
   "source": [
    "### String Functions - Notes I\n",
    "\n",
    "##### Note.: All the below str functions create a new obj, they don't make changes to the str in place\n",
    "\n",
    "- title() \n",
    "    - returns a string where the first character in every word is upper case\n",
    "    - Syntax: string.title()\n",
    "- swapcase() \n",
    "    - returns a string where all the upper case letters are lower case and vice versa\n",
    "    - Syntax: string.swapcase()\n",
    "- find()\n",
    "    - finds the first occurrence of the specified value\n",
    "    - returns -1 if the value is not found\n",
    "    - almost the same as the `index()` method, the only difference is that the index() method raises an exception if the value is not found\n",
    "    - Syntax: string.find(value, start, end)\n",
    "        - value\t(Required) - The value to search for\n",
    "        - start\t(Optional) - Where to start the search. Default is 0\n",
    "        - end\t(Optional) - Where to end the search. Default is to the end of the string\n",
    "- strip()\n",
    "    - removes any leading, and trailing whitespaces\n",
    "    - Leading means at the beginning of the string, trailing means at the end\n",
    "    - specify which character(s) to remove, if not, any whitespaces will be removed\n",
    "    - Syntax: string.strip(characters)\n",
    "        - characters (Optional) - A set of characters to remove as leading/trailing characters"
   ]
  },
  {
   "cell_type": "code",
   "execution_count": 11,
   "metadata": {},
   "outputs": [
    {
     "name": "stdout",
     "output_type": "stream",
     "text": [
      "Hello I Am A String\n",
      "HELLO I AM A STRING\n",
      "1\n",
      "6\n",
      "-1\n",
      "this is an example of strip\n",
      "banana\n"
     ]
    }
   ],
   "source": [
    "str = \"hello i am a string\"\n",
    "\n",
    "#title() usage\n",
    "print(str.title())\n",
    "\n",
    "#swapcase() usage\n",
    "print(str.swapcase())\n",
    "\n",
    "#find() usage\n",
    "print(str.find('e'))\n",
    "print(str.find('i',2,(len(str)-1)))\n",
    "print(str.find('z'))\n",
    "\n",
    "#strip() usage\n",
    "str1 = \"   this is an example of strip   \"\n",
    "print(str1.strip())\n",
    "\n",
    "txt = \",,,,,rrttgg.....banana....rrr\"\n",
    "print(txt.strip(\",.grt\"))"
   ]
  },
  {
   "cell_type": "markdown",
   "metadata": {},
   "source": [
    "### String Functions - Notes II\n",
    "- lower()\n",
    "    - returns a string where all characters are lower case\n",
    "    - Syntax: string.lower()\n",
    "- upper()\n",
    "    - returns a string where all characters are upper case\n",
    "    - Syntax: string.upper()\n",
    "- startswith()\n",
    "    - returns True if the string starts with the specified value, otherwise False\n",
    "    - Syntax: string.startswith(value, start, end)\n",
    "        - value (Required) - The value to check if the string starts with. This value parameter can also be a tuple, then the method returns true if the string starts with any of the tuple values.\n",
    "        - start (Optional) - An Integer specifying at which position to start the search\n",
    "        - end (Optional) - An Integer specifying at which position to end the search\n",
    "- endswith()\n",
    "    - returns True if the string ends with the specified value, otherwise False\n",
    "    - Syntax: string.endswith(value, start, end)\n",
    "        - value (Required) - The value to check if the string ends with. This value parameter can also be a tuple, then the method returns true if the string ends with any of the tuple values.\n",
    "        - start (Optional) - An Integer specifying at which position to start the search\n",
    "        - end (Optional) - An Integer specifying at which position to end the search"
   ]
  },
  {
   "cell_type": "code",
   "execution_count": 23,
   "metadata": {},
   "outputs": [
    {
     "name": "stdout",
     "output_type": "stream",
     "text": [
      "HELLO I AM A STRING\n",
      "\n",
      "Startwith Examples\n",
      "True\n",
      "False\n",
      "True\n",
      "\n",
      "Endswith Example\n",
      "True\n",
      "True\n",
      "\n",
      "this is an example of lower fn\n"
     ]
    }
   ],
   "source": [
    "#upper() usage\n",
    "print(str.upper())\n",
    "\n",
    "#startswith() usage\n",
    "print()\n",
    "print(\"Startwith Examples\")\n",
    "print(str.startswith(\"hel\"))\n",
    "print(str.startswith(\"a\"))\n",
    "print(str.startswith((\"h\",\"a\",\"b\")))\n",
    "print()\n",
    "\n",
    "#endswith() usage\n",
    "print(\"Endswith Example\")\n",
    "print(str.endswith(\"ing\"))\n",
    "print(str.endswith((\"ing\",\"abd\",\"igh\")))\n",
    "print()\n",
    "\n",
    "#lower() usage\n",
    "txt1 = \"THIS is an EXAMPLE of LoWeR fN\"\n",
    "print(txt1.lower())"
   ]
  },
  {
   "cell_type": "markdown",
   "metadata": {},
   "source": [
    "### String Functions - Notes III\n",
    "- reverse\n",
    "    - no inbuilt function available - must use slicing\n",
    "- slicing\n",
    "    - Syntax: sequence[start:end:step]\n",
    "        - start → The index where the slicing begins (default is 0).\n",
    "        - end → The index where the slicing stops (default is the length of the sequence).\n",
    "        - step → The interval between elements (default is 1).\n",
    "    - str = \"python\"\n",
    "        - str[0:2] = py (Slicing till index 1)\n",
    "        - str[0:] = python (Slicing till last index)\n",
    "        - str[0:4] = pyth (Slicing till index 3)\n",
    "        - str[0:-2] = pyth (Slicing till index -3)\n",
    "        - str[::-1] = nothyp (traverses backwards)\n",
    "        - str[::2] = pto (extract at regular intervals)\n",
    "        - new_word = str[:] (use for shallow copy) -> now new_word also points to `python`\n",
    "    Note: -1 indexing starts from last of any string."
   ]
  },
  {
   "cell_type": "markdown",
   "metadata": {},
   "source": [
    "### Questions"
   ]
  },
  {
   "cell_type": "markdown",
   "metadata": {},
   "source": [
    "Q1. The task is to print a new string such that tag_name is in the middle of bound_by."
   ]
  },
  {
   "cell_type": "code",
   "execution_count": 60,
   "metadata": {},
   "outputs": [
    {
     "name": "stdout",
     "output_type": "stream",
     "text": [
      "[[tag]]\n",
      "<body>\n"
     ]
    }
   ],
   "source": [
    "def wrap_tag(bound_by,tag_name):\n",
    "    output = bound_by[:len(bound_by)//2]+tag_name+bound_by[len(bound_by)//2:]\n",
    "    print(output)\n",
    "\n",
    "wrap_tag(\"[[]]\",\"tag\")\n",
    "wrap_tag(\"<>\",\"body\")"
   ]
  },
  {
   "cell_type": "markdown",
   "metadata": {},
   "source": [
    "Q2. Given a string s, reverse the string without reversing its individual words. Words are separated by spaces.\n",
    "\n",
    "Note: The string may contain leading or trailing spaces, or multiple spaces between two words. \n",
    "The returned string should only have a single space separating the words, and no extra spaces should be included."
   ]
  },
  {
   "cell_type": "code",
   "execution_count": 61,
   "metadata": {},
   "outputs": [
    {
     "name": "stdout",
     "output_type": "stream",
     "text": [
      "much very program this like i\n",
      "mno pqr\n",
      "a\n"
     ]
    }
   ],
   "source": [
    "def reverse_word(s):\n",
    "   print(\" \".join(s.strip().split()[::-1]))\n",
    "\n",
    "reverse_word(\" i like this program very much \")\n",
    "reverse_word(\" pqr mno \")\n",
    "reverse_word(\" a \")"
   ]
  },
  {
   "cell_type": "markdown",
   "metadata": {},
   "source": [
    "Q3. Given two strings a and b. The task is to make a new string where the string with longer length should be in between and the one with shorter length should be outside on front and end. New string should be like \n",
    "shorter+longer+shorter.\n",
    "\n",
    "Note: It is guranteed that no two string are of same length."
   ]
  },
  {
   "cell_type": "code",
   "execution_count": 62,
   "metadata": {},
   "outputs": [
    {
     "name": "stdout",
     "output_type": "stream",
     "text": [
      "HiThereHi\n"
     ]
    }
   ],
   "source": [
    "def repeat_the_str(a,b):\n",
    "    first_str_len = len(a)\n",
    "    second_str_len = len(b)\n",
    "\n",
    "    if first_str_len<second_str_len:\n",
    "        print(a+b+a)\n",
    "    else:\n",
    "        print(b+a+b)\n",
    "\n",
    "repeat_the_str(\"Hi\",\"There\")"
   ]
  },
  {
   "cell_type": "markdown",
   "metadata": {},
   "source": [
    "Q4. You are given a string s. Your task is to determine if the string is a palindrome. A string is considered a palindrome if it reads the same forwards and backwards."
   ]
  },
  {
   "cell_type": "code",
   "execution_count": 63,
   "metadata": {},
   "outputs": [
    {
     "name": "stdout",
     "output_type": "stream",
     "text": [
      "True\n",
      "False\n"
     ]
    }
   ],
   "source": [
    "def is_palindrome(string):\n",
    "    print(string == string[::-1])\n",
    "\n",
    "is_palindrome(\"abba\")\n",
    "is_palindrome(\"hello\")"
   ]
  },
  {
   "cell_type": "markdown",
   "metadata": {},
   "source": [
    "Q5. Advanced palindrome\n",
    "\n",
    "`re` pattern explanation\n",
    "\n",
    "This expression `re.sub(r'[^a-zA-Z0-9]', '', s)` is used to **remove all non-alphanumeric characters** (i.e., punctuation, spaces, and special characters) from a string. Let’s break it down:\n",
    "\n",
    "**1️⃣ `re.sub(pattern, replacement, string)`**\n",
    "- This is a function from Python's `re` (regular expression) module.\n",
    "- It **replaces** all occurrences of `pattern` in `string` with `replacement`.\n",
    "\n",
    "**2️⃣ `r'[^a-zA-Z0-9]'` (Regex Pattern)**\n",
    "- The `r` before the string (`r'...'`) means it's a **raw string**, which helps avoid issues with escape sequences.\n",
    "- The `[^...]` notation represents a **negated character set**, meaning \"match anything **not** inside the brackets.\"\n",
    "- `a-zA-Z0-9` represents **all lowercase and uppercase letters, plus digits (0-9).**\n",
    "- So, `[^a-zA-Z0-9]` means **\"match anything that is NOT a letter or digit\"** (i.e., punctuation, spaces, special characters).\n",
    "\n",
    "**3️⃣ Replacement: `''` (Empty String)**\n",
    "- This means **replace all matched non-alphanumeric characters with nothing (i.e., remove them).**"
   ]
  },
  {
   "cell_type": "code",
   "execution_count": 59,
   "metadata": {},
   "outputs": [
    {
     "name": "stdout",
     "output_type": "stream",
     "text": [
      "True\n",
      "False\n"
     ]
    }
   ],
   "source": [
    "import re\n",
    "def is_palindrome_advanced(string):\n",
    "    \"\"\"Checks if a string is a palindrome, ignoring case and non-alphanumeric characters\"\"\"\n",
    "    clean_s = re.sub(r'[^a-zA-Z0-9]', '', string).lower()\n",
    "    print(clean_s == clean_s[::-1])\n",
    "\n",
    "is_palindrome_advanced(\"A man, a plan, a canal: Panama\")  \n",
    "is_palindrome_advanced(\"bye\")"
   ]
  },
  {
   "cell_type": "markdown",
   "metadata": {},
   "source": [
    "Q6. Given a string s which may contain lowercase and uppercase characters. \n",
    "The task is to remove all duplicate characters from the string and find the resultant string. \n",
    "The order of remaining characters in the output should be same as in the original string."
   ]
  },
  {
   "cell_type": "code",
   "execution_count": null,
   "metadata": {},
   "outputs": [],
   "source": [
    "\n"
   ]
  }
 ],
 "metadata": {
  "kernelspec": {
   "display_name": "Python 3",
   "language": "python",
   "name": "python3"
  },
  "language_info": {
   "codemirror_mode": {
    "name": "ipython",
    "version": 3
   },
   "file_extension": ".py",
   "mimetype": "text/x-python",
   "name": "python",
   "nbconvert_exporter": "python",
   "pygments_lexer": "ipython3",
   "version": "3.13.1"
  }
 },
 "nbformat": 4,
 "nbformat_minor": 2
}
