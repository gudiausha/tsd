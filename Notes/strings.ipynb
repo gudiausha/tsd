{
 "cells": [
  {
   "cell_type": "markdown",
   "metadata": {},
   "source": [
    "## Python String Methods and Problems\n",
    "\n",
    "https://www.geeksforgeeks.org/python-exercises-practice-questions-and-solutions/?ref=dhm"
   ]
  },
  {
   "cell_type": "markdown",
   "metadata": {},
   "source": [
    "### String Functions - Notes I\n",
    "\n",
    "##### Note.: All the below str functions create a new obj, they don't make changes to the str in place\n",
    "\n",
    "- title() \n",
    "    - returns a string where the first character in every word is upper case\n",
    "    - Syntax: string.title()\n",
    "- swapcase() \n",
    "    - returns a string where all the upper case letters are lower case and vice versa\n",
    "    - Syntax: string.swapcase()\n",
    "- find()\n",
    "    - finds the first occurrence of the specified value\n",
    "    - returns -1 if the value is not found\n",
    "    - almost the same as the `index()` method, the only difference is that the index() method raises an exception if the value is not found\n",
    "    - Syntax: string.find(value, start, end)\n",
    "        - value\t(Required) - The value to search for\n",
    "        - start\t(Optional) - Where to start the search. Default is 0\n",
    "        - end\t(Optional) - Where to end the search. Default is to the end of the string\n",
    "- strip()\n",
    "    - removes any leading, and trailing whitespaces\n",
    "    - Leading means at the beginning of the string, trailing means at the end\n",
    "    - specify which character(s) to remove, if not, any whitespaces will be removed\n",
    "    - Syntax: string.strip(characters)\n",
    "        - characters (Optional) - A set of characters to remove as leading/trailing characters"
   ]
  },
  {
   "cell_type": "code",
   "execution_count": 1,
   "metadata": {},
   "outputs": [
    {
     "name": "stdout",
     "output_type": "stream",
     "text": [
      "Hello I Am A Stringing\n",
      "HELLO I AM A STRINGING\n",
      "1\n",
      "6\n",
      "-1\n",
      "this is an example of stringip\n",
      "banana\n"
     ]
    }
   ],
   "source": [
    "string = \"hello i am a stringing\"\n",
    "\n",
    "#title() usage\n",
    "print(string.title())\n",
    "\n",
    "#swapcase() usage\n",
    "print(string.swapcase())\n",
    "\n",
    "#find() usage\n",
    "print(string.find('e'))\n",
    "print(string.find('i',2,(len(string)-1)))\n",
    "print(string.find('z'))\n",
    "\n",
    "#strip() usage\n",
    "string1 = \"   this is an example of stringip   \"\n",
    "print(string1.strip())\n",
    "\n",
    "txt = \",,,,,rrttgg.....banana....rrr\"\n",
    "print(txt.strip(\",.grt\"))"
   ]
  },
  {
   "cell_type": "markdown",
   "metadata": {},
   "source": [
    "### String Functions - Notes II\n",
    "- lower()\n",
    "    - returns a string where all characters are lower case\n",
    "    - Syntax: string.lower()\n",
    "- upper()\n",
    "    - returns a string where all characters are upper case\n",
    "    - Syntax: string.upper()\n",
    "- startswith()\n",
    "    - returns True if the string starts with the specified value, otherwise False\n",
    "    - Syntax: string.startswith(value, start, end)\n",
    "        - value (Required) - The value to check if the string starts with. This value parameter can also be a tuple, then the method returns true if the string starts with any of the tuple values.\n",
    "        - start (Optional) - An Integer specifying at which position to start the search\n",
    "        - end (Optional) - An Integer specifying at which position to end the search\n",
    "- endswith()\n",
    "    - returns True if the string ends with the specified value, otherwise False\n",
    "    - Syntax: string.endswith(value, start, end)\n",
    "        - value (Required) - The value to check if the string ends with. This value parameter can also be a tuple, then the method returns true if the string ends with any of the tuple values.\n",
    "        - start (Optional) - An Integer specifying at which position to start the search\n",
    "        - end (Optional) - An Integer specifying at which position to end the search"
   ]
  },
  {
   "cell_type": "code",
   "execution_count": 2,
   "metadata": {},
   "outputs": [
    {
     "name": "stdout",
     "output_type": "stream",
     "text": [
      "HELLO I AM A STRINGING\n",
      "\n",
      "Startwith Examples\n",
      "True\n",
      "False\n",
      "True\n",
      "\n",
      "Endswith Example\n",
      "True\n",
      "True\n",
      "\n",
      "this is an example of lower fn\n"
     ]
    }
   ],
   "source": [
    "#upper() usage\n",
    "print(string.upper())\n",
    "\n",
    "#startswith() usage\n",
    "print()\n",
    "print(\"Startwith Examples\")\n",
    "print(string.startswith(\"hel\"))\n",
    "print(string.startswith(\"a\"))\n",
    "print(string.startswith((\"h\",\"a\",\"b\")))\n",
    "print()\n",
    "\n",
    "#endswith() usage\n",
    "print(\"Endswith Example\")\n",
    "print(string.endswith(\"ing\"))\n",
    "print(string.endswith((\"ing\",\"abd\",\"igh\")))\n",
    "print()\n",
    "\n",
    "#lower() usage\n",
    "txt1 = \"THIS is an EXAMPLE of LoWeR fN\"\n",
    "print(txt1.lower())"
   ]
  },
  {
   "cell_type": "markdown",
   "metadata": {},
   "source": [
    "### String Functions - Notes III\n",
    "- reverse\n",
    "    - no inbuilt function available - must use slicing\n",
    "- slicing\n",
    "    - Syntax: sequence[start:end:step]\n",
    "        - start → The index where the slicing begins (default is 0).\n",
    "        - end → The index where the slicing stops (default is the length of the sequence).\n",
    "        - step → The interval between elements (default is 1).\n",
    "    - string = \"python\"\n",
    "        - string[0:2] = py (Slicing till index 1)\n",
    "        - string[0:] = python (Slicing till last index)\n",
    "        - string[0:4] = pyth (Slicing till index 3)\n",
    "        - string[0:-2] = pyth (Slicing till index -3)\n",
    "        - string[::-1] = nothyp (traverses backwards)\n",
    "        - string[::2] = pto (extract at regular intervals)\n",
    "        - new_word = str[:] (use for shallow copy) -> now new_word also points to `python`\n",
    "    Note: -1 indexing starts from last of any string.\n",
    "- replace\n",
    "    - replaces a specified phrase with another specified phrase\n",
    "    - Syntax: string.replace(oldvalue, newvalue, count)\n",
    "        - oldvalue (Required) -  The string to search for\n",
    "        - newvalue (Required) -  The string to replace the old value with\n",
    "        - count\t(Optional) -  A number specifying how many occurrences of the old value you want to replace. Default is all occurrences\n",
    "- isdigit\n",
    "    - checks if a string contains entirely digits/numbers and returns True,else False\n"
   ]
  },
  {
   "cell_type": "code",
   "execution_count": 27,
   "metadata": {},
   "outputs": [
    {
     "name": "stdout",
     "output_type": "stream",
     "text": [
      "HelloWorldPython\n"
     ]
    }
   ],
   "source": [
    "sentence = \"Hello World Python\"\n",
    "new_sentence = sentence.replace(\" \", \"\")\n",
    "print(new_sentence)"
   ]
  },
  {
   "cell_type": "code",
   "execution_count": 44,
   "metadata": {},
   "outputs": [
    {
     "name": "stdout",
     "output_type": "stream",
     "text": [
      "True\n",
      "\n",
      "False\n"
     ]
    }
   ],
   "source": [
    "s = \"12345\"\n",
    "print(s.isdigit())\n",
    "\n",
    "print()\n",
    "\n",
    "s1 = \"abc34ef\"\n",
    "print(s1.isdigit())"
   ]
  },
  {
   "cell_type": "markdown",
   "metadata": {},
   "source": [
    "### String Functions - Notes IV\n",
    "\n",
    "#### Conversions\n",
    "\n",
    "- Int to string: \n",
    "    - str(int)\n",
    "- List/Tuple/Set to string:\n",
    "    - \" \".join(list)\n",
    "    - Use for loop and append to var\n",
    "    - For set, to convert individual char to string use str(set-var)\n",
    "- String to int\n",
    "    - int(string,base)\n",
    "- String to list\n",
    "    - split()\n",
    "        - based on white space or any delimiter\n",
    "    - list()\n",
    "        - each char of string is converted as ele of list\n",
    "    - Use for loop and append to list\n",
    "- String to set\n",
    "    - set(string)\n",
    "    - {*string}\n"
   ]
  },
  {
   "cell_type": "code",
   "execution_count": 45,
   "metadata": {},
   "outputs": [
    {
     "name": "stdout",
     "output_type": "stream",
     "text": [
      "10\n",
      "10\n"
     ]
    }
   ],
   "source": [
    "# Binary string\n",
    "s = \"1010\"\n",
    "num = int(s, 2)\n",
    "print(num)\n",
    "\n",
    "# Hexadecimal string\n",
    "s = \"A\"\n",
    "num = int(s, 16)\n",
    "print(num)"
   ]
  },
  {
   "cell_type": "markdown",
   "metadata": {},
   "source": [
    "### Questions"
   ]
  },
  {
   "cell_type": "markdown",
   "metadata": {},
   "source": [
    "Q1. The task is to print a new string such that tag_name is in the middle of bound_by."
   ]
  },
  {
   "cell_type": "code",
   "execution_count": 3,
   "metadata": {},
   "outputs": [
    {
     "name": "stdout",
     "output_type": "stream",
     "text": [
      "[[tag]]\n",
      "<body>\n"
     ]
    }
   ],
   "source": [
    "def wrap_tag(bound_by,tag_name):\n",
    "    output = bound_by[:len(bound_by)//2]+tag_name+bound_by[len(bound_by)//2:]\n",
    "    print(output)\n",
    "\n",
    "wrap_tag(\"[[]]\",\"tag\")\n",
    "wrap_tag(\"<>\",\"body\")"
   ]
  },
  {
   "cell_type": "markdown",
   "metadata": {},
   "source": [
    "Q2. Given a string s, reverse the string without reversing its individual words. Words are separated by spaces.\n",
    "\n",
    "Note: The string may contain leading or trailing spaces, or multiple spaces between two words. \n",
    "The returned string should only have a single space separating the words, and no extra spaces should be included."
   ]
  },
  {
   "cell_type": "code",
   "execution_count": 4,
   "metadata": {},
   "outputs": [
    {
     "name": "stdout",
     "output_type": "stream",
     "text": [
      "much very program this like i\n",
      "mno pqr\n",
      "a\n"
     ]
    }
   ],
   "source": [
    "def reverse_word(s):\n",
    "   print(\" \".join(s.strip().split()[::-1]))\n",
    "\n",
    "reverse_word(\" i like this program very much \")\n",
    "reverse_word(\" pqr mno \")\n",
    "reverse_word(\" a \")\n",
    "\n",
    "# Other Methods to solve.:\n",
    "# - split --> for loop (reverse) --> store in var"
   ]
  },
  {
   "cell_type": "markdown",
   "metadata": {},
   "source": [
    "Q3. Given two strings a and b. The task is to make a new string where the string with longer length should be in between and the one with shorter length should be outside on front and end. New string should be like \n",
    "shorter+longer+shorter.\n",
    "\n",
    "Note: It is guranteed that no two string are of same length."
   ]
  },
  {
   "cell_type": "code",
   "execution_count": 5,
   "metadata": {},
   "outputs": [
    {
     "name": "stdout",
     "output_type": "stream",
     "text": [
      "HiThereHi\n"
     ]
    }
   ],
   "source": [
    "def repeat_the_str(a,b):\n",
    "    first_str_len = len(a)\n",
    "    second_str_len = len(b)\n",
    "\n",
    "    if first_str_len<second_str_len:\n",
    "        print(a+b+a)\n",
    "    else:\n",
    "        print(b+a+b)\n",
    "\n",
    "repeat_the_str(\"Hi\",\"There\")"
   ]
  },
  {
   "cell_type": "markdown",
   "metadata": {},
   "source": [
    "Q4. You are given a string s. Your task is to determine if the string is a palindrome. **A string is considered a palindrome if it reads the same forwards and backwards**."
   ]
  },
  {
   "cell_type": "code",
   "execution_count": 6,
   "metadata": {},
   "outputs": [
    {
     "name": "stdout",
     "output_type": "stream",
     "text": [
      "True\n",
      "False\n"
     ]
    }
   ],
   "source": [
    "def is_palindrome(string):\n",
    "    print(string == string[::-1])\n",
    "\n",
    "is_palindrome(\"abba\")\n",
    "is_palindrome(\"hello\")"
   ]
  },
  {
   "cell_type": "markdown",
   "metadata": {},
   "source": [
    "Q5. Advanced palindrome\n",
    "\n",
    "`re` pattern explanation\n",
    "\n",
    "This expression `re.sub(r'[^a-zA-Z0-9]', '', s)` is used to **remove all non-alphanumeric characters** (i.e., punctuation, spaces, and special characters) from a string. Let’s break it down:\n",
    "\n",
    "**1️⃣ `re.sub(pattern, replacement, string)`**\n",
    "- This is a function from Python's `re` (regular expression) module.\n",
    "- It **replaces** all occurrences of `pattern` in `string` with `replacement`.\n",
    "\n",
    "**2️⃣ `r'[^a-zA-Z0-9]'` (Regex Pattern)**\n",
    "- The `r` before the string (`r'...'`) means it's a **raw string**, which helps avoid issues with escape sequences.\n",
    "- The `[^...]` notation represents a **negated character set**, meaning \"match anything **not** inside the brackets.\"\n",
    "- `a-zA-Z0-9` represents **all lowercase and uppercase letters, plus digits (0-9).**\n",
    "- So, `[^a-zA-Z0-9]` means **\"match anything that is NOT a letter or digit\"** (i.e., punctuation, spaces, special characters).\n",
    "\n",
    "**3️⃣ Replacement: `''` (Empty String)**\n",
    "- This means **replace all matched non-alphanumeric characters with nothing (i.e., remove them).**"
   ]
  },
  {
   "cell_type": "code",
   "execution_count": 7,
   "metadata": {},
   "outputs": [
    {
     "name": "stdout",
     "output_type": "stream",
     "text": [
      "True\n",
      "False\n"
     ]
    }
   ],
   "source": [
    "import re\n",
    "def is_palindrome_advanced(string):\n",
    "    \"\"\"Checks if a string is a palindrome, ignoring case and non-alphanumeric characters\"\"\"\n",
    "    clean_s = re.sub(r'[^a-zA-Z0-9]', '', string).lower()\n",
    "    print(clean_s == clean_s[::-1])\n",
    "\n",
    "is_palindrome_advanced(\"A man, a plan, a canal: Panama\")  \n",
    "is_palindrome_advanced(\"bye\")"
   ]
  },
  {
   "cell_type": "markdown",
   "metadata": {},
   "source": [
    "Q6. Given a string s which may contain lowercase and uppercase characters. \n",
    "The task is to remove all duplicate characters from the string and find the resultant string. \n",
    "The order of remaining characters in the output should be same as in the original string."
   ]
  },
  {
   "cell_type": "code",
   "execution_count": 25,
   "metadata": {},
   "outputs": [
    {
     "name": "stdout",
     "output_type": "stream",
     "text": [
      "geEksforG\n",
      "eoGEskgrf\n",
      "\n",
      "HaPpyNewYr\n",
      "weayNrYPHp\n"
     ]
    }
   ],
   "source": [
    "def remove_duplicates(s):\n",
    "    resultant_dict = {}\n",
    "    for char in s:\n",
    "        if char not in resultant_dict:\n",
    "            resultant_dict[char]=1\n",
    "    \n",
    "    resultant_str = \"\".join(resultant_dict.keys())\n",
    "    print(resultant_str)\n",
    "\n",
    "    # Does not retain order\n",
    "    resultant_str_set = \"\".join(set(s))\n",
    "    print(resultant_str_set)\n",
    "\n",
    "remove_duplicates(\"geEksforGEeks\")\n",
    "print()\n",
    "remove_duplicates(\"HaPpyNewYear\")"
   ]
  },
  {
   "cell_type": "markdown",
   "metadata": {},
   "source": [
    "Q7. Given two strings s1 and s2 consisting of lowercase characters. The task is to check whether two given strings are an anagram of each other or not. An anagram of a string is another string that **contains the same characters, only the order of characters can be different**. For example, \"act\" and \"tac\" are an anagram of each other. Strings s1 and s2 can only contain lowercase alphabets.\n",
    "\n",
    "Note: You can assume both the strings s1 & s2 are non-empty."
   ]
  },
  {
   "cell_type": "code",
   "execution_count": 24,
   "metadata": {},
   "outputs": [
    {
     "name": "stdout",
     "output_type": "stream",
     "text": [
      "True\n",
      "False\n",
      "True\n"
     ]
    }
   ],
   "source": [
    "from collections import Counter\n",
    "\n",
    "def is_anagram(s1,s2):\n",
    "    s1_hash = Counter(s1)\n",
    "    s2_hash = Counter(s2)\n",
    "    print(s1_hash == s2_hash)\n",
    "\n",
    "is_anagram(\"geeks\",\"kseeg\")\n",
    "is_anagram(\"allergy\",\"allergic\")\n",
    "is_anagram(\"g\",\"g\")\n"
   ]
  },
  {
   "cell_type": "markdown",
   "metadata": {},
   "source": [
    "Q8. Given a string. The task is to print all words with even length in the given string."
   ]
  },
  {
   "cell_type": "code",
   "execution_count": 30,
   "metadata": {},
   "outputs": [
    {
     "name": "stdout",
     "output_type": "stream",
     "text": [
      "This is python language \n",
      "am \n"
     ]
    }
   ],
   "source": [
    "def words_with_even_len(s):\n",
    "    even_len_words = \"\"\n",
    "    for word in s.split():\n",
    "        if len(word)%2 == 0:\n",
    "            even_len_words += word + \" \"\n",
    "    print(even_len_words)\n",
    "\n",
    "words_with_even_len(\"This is a python language\")\n",
    "words_with_even_len(\"i am laxmi\")\n",
    "# Other Methods.:\n",
    "# - even_len_words as [] --> use join\n",
    "# - list --> filter and lambda\n",
    "# - split --> list comprehension\n",
    "# - spilt --> enumerate"
   ]
  },
  {
   "cell_type": "code",
   "execution_count": 36,
   "metadata": {},
   "outputs": [
    {
     "name": "stdout",
     "output_type": "stream",
     "text": [
      "<filter object at 0x000001C9E9037CA0>\n",
      "geek\n"
     ]
    }
   ],
   "source": [
    "# List-->filter and lambda method\n",
    "# Python code \n",
    "# To print even length words in string \n",
    " \n",
    "#input string \n",
    "n=\"geeks for geek\"\n",
    "#splitting the words in a given string\n",
    "s=n.split(\" \") \n",
    "l=filter(lambda x: (len(x)%2==0),s)\n",
    "print(l)\n",
    "print(\"\".join(list(l)))"
   ]
  },
  {
   "cell_type": "markdown",
   "metadata": {},
   "source": [
    "Q9. Remove ith char from string"
   ]
  },
  {
   "cell_type": "code",
   "execution_count": 42,
   "metadata": {},
   "outputs": [
    {
     "name": "stdout",
     "output_type": "stream",
     "text": [
      "hlloworld\n"
     ]
    }
   ],
   "source": [
    "def remove_ith_char(s, char):\n",
    "    new_s = s.replace(\" \", \"\")  # Remove spaces\n",
    "    new_s = new_s.replace(char, \"\", 1)  # Remove first occurrence of `char`\n",
    "    print(new_s)\n",
    "\n",
    "remove_ith_char(\"hello world\", \"e\")\n",
    "\n",
    "# alternates.:\n",
    "# - take index and slice based on ind\n"
   ]
  },
  {
   "cell_type": "markdown",
   "metadata": {},
   "source": []
  },
  {
   "cell_type": "code",
   "execution_count": null,
   "metadata": {},
   "outputs": [],
   "source": []
  }
 ],
 "metadata": {
  "kernelspec": {
   "display_name": "Python 3",
   "language": "python",
   "name": "python3"
  },
  "language_info": {
   "codemirror_mode": {
    "name": "ipython",
    "version": 3
   },
   "file_extension": ".py",
   "mimetype": "text/x-python",
   "name": "python",
   "nbconvert_exporter": "python",
   "pygments_lexer": "ipython3",
   "version": "3.13.1"
  }
 },
 "nbformat": 4,
 "nbformat_minor": 2
}
